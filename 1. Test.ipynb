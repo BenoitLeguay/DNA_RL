{
 "cells": [
  {
   "cell_type": "markdown",
   "metadata": {},
   "source": [
    "# DNA RL: Crossover based optimization algorithm"
   ]
  },
  {
   "cell_type": "markdown",
   "metadata": {},
   "source": [
    "Importing Libraries"
   ]
  },
  {
   "cell_type": "code",
   "execution_count": 1,
   "metadata": {},
   "outputs": [],
   "source": [
    "import dna_env\n",
    "import a2c\n",
    "import torch\n",
    "import variable as v\n",
    "from tqdm import tqdm\n",
    "from train_session import TrainSession\n",
    "import matplotlib.pyplot as plt\n",
    "from copy import deepcopy\n",
    "import numpy as np"
   ]
  },
  {
   "cell_type": "markdown",
   "metadata": {},
   "source": [
    "Initializing Environment"
   ]
  },
  {
   "cell_type": "code",
   "execution_count": 2,
   "metadata": {},
   "outputs": [],
   "source": [
    "sequence_length = 36\n",
    "state_representation = 'latent'\n",
    "render = True\n",
    "action_constraints = {'co_length': (10, 12), \n",
    "                      'opt_start_point': (-1, 36),\n",
    "                      'co_start_point': (-1, 36)}\n",
    "early_stop_reward = {'reward_low_threshold': -1,\n",
    "                     'reward_high_threshold': .9, \n",
    "                     'patience': 200}\n",
    "env = dna_env.DnaRLEnv(action_constraints, early_stop_reward, sequence_length=sequence_length,\n",
    "                      state_representation=state_representation)\n",
    "env.reset()\n",
    "train_session = None"
   ]
  },
  {
   "cell_type": "code",
   "execution_count": 3,
   "metadata": {},
   "outputs": [
    {
     "name": "stdout",
     "output_type": "stream",
     "text": [
      "state dim: (400,)\n",
      "action dim: (3, 36)\n"
     ]
    }
   ],
   "source": [
    "seed = 23\n",
    "state_dim = env.get_state_dim()\n",
    "action_dim = env.get_action_dim()\n",
    "print(f\"state dim: {state_dim}\")\n",
    "print(f\"action dim: {action_dim}\")"
   ]
  },
  {
   "cell_type": "markdown",
   "metadata": {},
   "source": [
    "Creating our agent"
   ]
  },
  {
   "cell_type": "code",
   "execution_count": 4,
   "metadata": {},
   "outputs": [],
   "source": [
    "critic_init = {\n",
    "    'seed': seed,\n",
    "    'action_dim': action_dim[0],\n",
    "    'state_representation': state_representation,\n",
    "    'network': {\n",
    "        'i_size': state_dim[0],\n",
    "        'l1_size': 200,\n",
    "        'l2_size': 100,\n",
    "        'l3_size': 20\n",
    "               },\n",
    "    'optimizer': {\n",
    "        'lr': 1e-5\n",
    "    }\n",
    "}\n",
    "actor_init = {\n",
    "    'entropy_learning_rate': 0.1,\n",
    "    'seed': seed,\n",
    "    'state_representation': state_representation,\n",
    "    'action_dim': action_dim[0],\n",
    "    'network': {\n",
    "        'i_size': state_dim[0], \n",
    "        'l1_size': 200,        \n",
    "        'hidden_size': 50, \n",
    "        'o_size': sequence_length\n",
    "               },\n",
    "    'optimizer': {\n",
    "        'lr': 1e-5\n",
    "    }\n",
    "}\n",
    "a2c_init = {\n",
    "    'actor_type': 'actor_rnn',\n",
    "    'seed': seed,\n",
    "    'discount_factor': .99, \n",
    "    'state_dim': state_dim, \n",
    "    'action_space': 3, \n",
    "    'actor': actor_init, \n",
    "    'critic': critic_init\n",
    "}"
   ]
  },
  {
   "cell_type": "code",
   "execution_count": 135,
   "metadata": {},
   "outputs": [],
   "source": [
    "if not train_session:\n",
    "    print('Train Session reset')\n",
    "    train_session = TrainSession({}, env, seed)"
   ]
  },
  {
   "cell_type": "code",
   "execution_count": 136,
   "metadata": {},
   "outputs": [],
   "source": [
    "agents_created = {\n",
    "    'a2c_agent': a2c.A2C(a2c_init)\n",
    "}\n",
    "manual_agent_names = train_session.append_agents(agents_created, overwrite=True)"
   ]
  },
  {
   "cell_type": "code",
   "execution_count": 137,
   "metadata": {},
   "outputs": [
    {
     "name": "stdout",
     "output_type": "stream",
     "text": [
      "All Agents: \n",
      "- a2c_agent\n"
     ]
    }
   ],
   "source": [
    "all_agent_names = train_session.agents.keys()\n",
    "s = '\\n- '.join(all_agent_names)\n",
    "print(f\"All Agents: \\n- {s}\")"
   ]
  },
  {
   "cell_type": "code",
   "execution_count": 138,
   "metadata": {},
   "outputs": [],
   "source": [
    "#train_session.load_model('a2c_agent', suffix='0710')"
   ]
  },
  {
   "cell_type": "code",
   "execution_count": 141,
   "metadata": {},
   "outputs": [],
   "source": [
    "n_episode = 20\n",
    "t_max_per_episode = 200\n",
    "graphical = False"
   ]
  },
  {
   "cell_type": "code",
   "execution_count": 142,
   "metadata": {},
   "outputs": [
    {
     "name": "stderr",
     "output_type": "stream",
     "text": [
      "\n",
      "  0%|          | 0/20 [00:00<?, ?it/s]\u001b[A\n",
      "  5%|▌         | 1/20 [00:04<01:26,  4.55s/it]\u001b[A\n",
      " 10%|█         | 2/20 [00:09<01:22,  4.56s/it]\u001b[A\n",
      " 15%|█▌        | 3/20 [00:13<01:18,  4.60s/it]\u001b[A\n",
      " 20%|██        | 4/20 [00:18<01:13,  4.59s/it]\u001b[A\n",
      " 25%|██▌       | 5/20 [00:23<01:09,  4.65s/it]\u001b[A\n",
      " 30%|███       | 6/20 [00:27<01:05,  4.65s/it]\u001b[A\n",
      " 35%|███▌      | 7/20 [00:32<01:01,  4.75s/it]\u001b[A\n",
      " 40%|████      | 8/20 [00:37<00:57,  4.82s/it]\u001b[A\n",
      " 45%|████▌     | 9/20 [00:42<00:53,  4.89s/it]\u001b[A\n",
      " 50%|█████     | 10/20 [00:47<00:49,  4.93s/it]\u001b[A\n",
      " 55%|█████▌    | 11/20 [00:52<00:44,  4.98s/it]\u001b[A\n",
      " 60%|██████    | 12/20 [00:58<00:39,  5.00s/it]\u001b[A\n",
      " 65%|██████▌   | 13/20 [01:03<00:34,  5.00s/it]\u001b[A\n",
      " 70%|███████   | 14/20 [01:07<00:29,  4.99s/it]\u001b[A\n",
      " 75%|███████▌  | 15/20 [01:12<00:24,  4.99s/it]\u001b[A\n",
      " 80%|████████  | 16/20 [01:18<00:20,  5.02s/it]\u001b[A\n",
      " 85%|████████▌ | 17/20 [01:23<00:15,  5.04s/it]\u001b[A\n",
      " 90%|█████████ | 18/20 [01:28<00:10,  5.05s/it]\u001b[A\n",
      " 95%|█████████▌| 19/20 [01:33<00:05,  5.06s/it]\u001b[A\n",
      "100%|██████████| 20/20 [01:38<00:00,  4.91s/it]\u001b[A\n"
     ]
    }
   ],
   "source": [
    "train_session.train(n_episode=n_episode, t_max_per_episode=t_max_per_episode,\n",
    "                    graphical=graphical, agent_subset=manual_agent_names)"
   ]
  },
  {
   "cell_type": "code",
   "execution_count": 14,
   "metadata": {},
   "outputs": [
    {
     "data": {
      "image/png": "[encoded data removed]",
      "text/plain": [
       "<Figure size 720x1440 with 5 Axes>"
      ]
     },
     "metadata": {},
     "output_type": "display_data"
    }
   ],
   "source": [
    "train_session.plot_results(window=1, agent_subset=manual_agent_names)"
   ]
  },
  {
   "cell_type": "code",
   "execution_count": 114,
   "metadata": {},
   "outputs": [
    {
     "ename": "NameError",
     "evalue": "name 'train_session' is not defined",
     "output_type": "error",
     "traceback": [
      "\u001b[0;31m---------------------------------------------------------------------------\u001b[0m",
      "\u001b[0;31mNameError\u001b[0m                                 Traceback (most recent call last)",
      "\u001b[0;32m<ipython-input-114-a1839a64eedd>\u001b[0m in \u001b[0;36m<module>\u001b[0;34m\u001b[0m\n\u001b[0;32m----> 1\u001b[0;31m \u001b[0mtrain_session\u001b[0m\u001b[0;34m\u001b[0m\u001b[0;34m\u001b[0m\u001b[0m\n\u001b[0m",
      "\u001b[0;31mNameError\u001b[0m: name 'train_session' is not defined"
     ]
    }
   ],
   "source": [
    "train_session"
   ]
  },
  {
   "cell_type": "code",
   "execution_count": 49,
   "metadata": {},
   "outputs": [],
   "source": [
    "states = list()\n",
    "for _ in range(10000):\n",
    "    states.append(env.reset())\n",
    "states_t = utils.to_tensor(states)"
   ]
  },
  {
   "cell_type": "code",
   "execution_count": 59,
   "metadata": {},
   "outputs": [],
   "source": [
    "a = train_session.agents[\"a2c_agent\"].actor.rnn_forward(states_t).mean(dim=1)[0].detach().cpu().numpy()"
   ]
  },
  {
   "cell_type": "code",
   "execution_count": 63,
   "metadata": {},
   "outputs": [
    {
     "data": {
      "text/plain": [
       "<BarContainer object of 36 artists>"
      ]
     },
     "execution_count": 63,
     "metadata": {},
     "output_type": "execute_result"
    },
    {
     "data": {
      "image/png": "[encoded data removed]",
      "text/plain": [
       "<Figure size 432x288 with 1 Axes>"
      ]
     },
     "metadata": {},
     "output_type": "display_data"
    }
   ],
   "source": [
    "plt.bar(range(len(a)), a)"
   ]
  },
  {
   "cell_type": "code",
   "execution_count": 36,
   "metadata": {},
   "outputs": [],
   "source": [
    "train_session.save_model(suffix='0708-3')"
   ]
  },
  {
   "cell_type": "code",
   "execution_count": 13,
   "metadata": {},
   "outputs": [
    {
     "data": {
      "text/plain": [
       "0.7286676168441772"
      ]
     },
     "execution_count": 13,
     "metadata": {},
     "output_type": "execute_result"
    }
   ],
   "source": [
    "max(train_session.reward_per_time_step[\"a2c_agent\"])"
   ]
  },
  {
   "cell_type": "code",
   "execution_count": 27,
   "metadata": {},
   "outputs": [
    {
     "ename": "TypeError",
     "evalue": "apply_along_axis() missing 2 required positional arguments: 'axis' and 'arr'",
     "output_type": "error",
     "traceback": [
      "\u001b[0;31m---------------------------------------------------------------------------\u001b[0m",
      "\u001b[0;31mTypeError\u001b[0m                                 Traceback (most recent call last)",
      "\u001b[0;32m<ipython-input-27-6c8b01a21e81>\u001b[0m in \u001b[0;36m<module>\u001b[0;34m\u001b[0m\n\u001b[0;32m----> 1\u001b[0;31m \u001b[0mnp\u001b[0m\u001b[0;34m.\u001b[0m\u001b[0mma\u001b[0m\u001b[0;34m.\u001b[0m\u001b[0mapply_along_axis\u001b[0m\u001b[0;34m(\u001b[0m\u001b[0mnp\u001b[0m\u001b[0;34m.\u001b[0m\u001b[0mma\u001b[0m\u001b[0;34m.\u001b[0m\u001b[0mmasked_not_equal\u001b[0m\u001b[0;34m(\u001b[0m\u001b[0mtrain_session\u001b[0m\u001b[0;34m.\u001b[0m\u001b[0mreward_per_time_step\u001b[0m\u001b[0;34m[\u001b[0m\u001b[0;34m\"a2c_agent\"\u001b[0m\u001b[0;34m]\u001b[0m\u001b[0;34m,\u001b[0m \u001b[0;34m-\u001b[0m\u001b[0;36m1.0\u001b[0m\u001b[0;34m)\u001b[0m\u001b[0;34m)\u001b[0m\u001b[0;34m\u001b[0m\u001b[0;34m\u001b[0m\u001b[0m\n\u001b[0m",
      "\u001b[0;31mTypeError\u001b[0m: apply_along_axis() missing 2 required positional arguments: 'axis' and 'arr'"
     ]
    }
   ],
   "source": [
    "np.ma.apply_along_axis(np.ma.masked_not_equal(train_session.reward_per_time_step[\"a2c_agent\"], -1.0))"
   ]
  },
  {
   "cell_type": "code",
   "execution_count": 10,
   "metadata": {},
   "outputs": [
    {
     "data": {
      "text/plain": [
       "[<matplotlib.lines.Line2D at 0x7f89881ad750>]"
      ]
     },
     "execution_count": 10,
     "metadata": {},
     "output_type": "execute_result"
    },
    {
     "data": {
      "image/png": "[encoded data removed]",
      "text/plain": [
       "<Figure size 432x288 with 1 Axes>"
      ]
     },
     "metadata": {},
     "output_type": "display_data"
    }
   ],
   "source": [
    "import numpy as np\n",
    "train_session.reward_per_time_step[\"a2c_agent\"] = np.ma.masked_not_equal(train_session.reward_per_time_step[\"a2c_agent\"], -1.0)\n",
    "series_mvg = utils.rolling_window(train_session.reward_per_time_step[\"a2c_agent\"], window=10)\n",
    "series_mvg_avg = np.mean(series_mvg, axis=1)\n",
    "plt.plot(range(len(series_mvg_avg)), series_mvg_avg)"
   ]
  },
  {
   "cell_type": "code",
   "execution_count": 37,
   "metadata": {},
   "outputs": [
    {
     "data": {
      "text/plain": [
       "tensor([[-0.0450]], device='cuda:0', grad_fn=<AddmmBackward>)"
      ]
     },
     "execution_count": 37,
     "metadata": {},
     "output_type": "execute_result"
    }
   ],
   "source": [
    "train_session.agents[\"a2c_agent\"].critic(torch.rand(1, 400).cuda())"
   ]
  },
  {
   "cell_type": "code",
   "execution_count": 25,
   "metadata": {},
   "outputs": [],
   "source": [
    "state = env.reset()"
   ]
  },
  {
   "cell_type": "code",
   "execution_count": 13,
   "metadata": {},
   "outputs": [
    {
     "data": {
      "text/plain": [
       "(1, 400)"
      ]
     },
     "execution_count": 13,
     "metadata": {},
     "output_type": "execute_result"
    }
   ],
   "source": [
    "(1, ) + state.shape"
   ]
  },
  {
   "cell_type": "code",
   "execution_count": 10,
   "metadata": {},
   "outputs": [],
   "source": [
    "a = torch.tensor([11, 23,  3], device=v.device)"
   ]
  },
  {
   "cell_type": "code",
   "execution_count": 13,
   "metadata": {},
   "outputs": [
    {
     "data": {
      "text/plain": [
       "array([11, 23,  3])"
      ]
     },
     "execution_count": 13,
     "metadata": {},
     "output_type": "execute_result"
    }
   ],
   "source": [
    "a.cpu().numpy()"
   ]
  },
  {
   "cell_type": "code",
   "execution_count": 17,
   "metadata": {},
   "outputs": [
    {
     "data": {
      "text/plain": [
       "tensor(759, device='cuda:0')"
      ]
     },
     "execution_count": 17,
     "metadata": {},
     "output_type": "execute_result"
    }
   ],
   "source": [
    "a.prod()"
   ]
  },
  {
   "cell_type": "code",
   "execution_count": 10,
   "metadata": {},
   "outputs": [],
   "source": [
    "import utils"
   ]
  },
  {
   "cell_type": "code",
   "execution_count": 16,
   "metadata": {},
   "outputs": [
    {
     "data": {
      "text/plain": [
       "tensor([[3.]], device='cuda:0')"
      ]
     },
     "execution_count": 16,
     "metadata": {},
     "output_type": "execute_result"
    }
   ],
   "source": [
    "utils.to_tensor([[float(3)]])\n"
   ]
  },
  {
   "cell_type": "code",
   "execution_count": 61,
   "metadata": {},
   "outputs": [],
   "source": [
    "torch.save(train_session.agents[\"a2c_agent\"].critic.state_dict(), \"/home/benoit/Documents/work/RL_DNA/saved_model/a2c_agent_critic_1.pth\")"
   ]
  },
  {
   "cell_type": "code",
   "execution_count": 62,
   "metadata": {},
   "outputs": [],
   "source": [
    "torch.save(train_session.agents[\"a2c_agent\"].actor.state_dict(), \"/home/benoit/Documents/work/RL_DNA/saved_model/a2c_agent_actor_1.pth\")"
   ]
  },
  {
   "cell_type": "code",
   "execution_count": 36,
   "metadata": {},
   "outputs": [
    {
     "data": {
      "text/plain": [
       "0.9"
      ]
     },
     "execution_count": 36,
     "metadata": {},
     "output_type": "execute_result"
    }
   ],
   "source": [
    "max([.9, .8])"
   ]
  },
  {
   "cell_type": "code",
   "execution_count": 2,
   "metadata": {},
   "outputs": [],
   "source": [
    "import torch"
   ]
  },
  {
   "cell_type": "code",
   "execution_count": 35,
   "metadata": {},
   "outputs": [],
   "source": [
    "sequence_length = 36\n",
    "render = True\n",
    "action_constraints = {'co_length': (10, 12), \n",
    "                      'opt_start_point': (-1, 36),\n",
    "                      'co_start_point': (-1, 36)}\n",
    "early_stop_reward = {'reward_low_threshold': -1,\n",
    "                     'reward_high_threshold': .9, \n",
    "                     'patience': 200}\n",
    "env_raw = dna_env.DnaRLEnv(action_constraints, early_stop_reward, \n",
    "                           sequence_length=sequence_length, \n",
    "                           state_representation='raw')"
   ]
  },
  {
   "cell_type": "code",
   "execution_count": 36,
   "metadata": {},
   "outputs": [],
   "source": [
    "s = env_raw.reset()"
   ]
  },
  {
   "cell_type": "code",
   "execution_count": 37,
   "metadata": {},
   "outputs": [],
   "source": [
    "s_t = utils.to_tensor(s).view((1, ) + s.shape)"
   ]
  },
  {
   "cell_type": "code",
   "execution_count": 38,
   "metadata": {},
   "outputs": [],
   "source": [
    "cp = torch.nn.ConstantPad1d(15 // 2, 0.25)\n",
    "m = torch.nn.Conv1d(4, 400, 15, stride=2).cuda()\n",
    "mp = torch.nn.AdaptiveMaxPool1d(1)"
   ]
  },
  {
   "cell_type": "code",
   "execution_count": 39,
   "metadata": {},
   "outputs": [
    {
     "data": {
      "text/plain": [
       "torch.Size([1, 400])"
      ]
     },
     "execution_count": 39,
     "metadata": {},
     "output_type": "execute_result"
    }
   ],
   "source": [
    "mp(m(cp(s_t))).squeeze(dim=2).shape"
   ]
  },
  {
   "cell_type": "code",
   "execution_count": 40,
   "metadata": {},
   "outputs": [
    {
     "name": "stdout",
     "output_type": "stream",
     "text": [
      "torch.Size([1, 4, 72])\n"
     ]
    },
    {
     "ename": "RuntimeError",
     "evalue": "size mismatch, m1: [4 x 72], m2: [400 x 200] at /opt/conda/conda-bld/pytorch_1587428266983/work/aten/src/THC/generic/THCTensorMathBlas.cu:283",
     "output_type": "error",
     "traceback": [
      "\u001b[0;31m---------------------------------------------------------------------------\u001b[0m",
      "\u001b[0;31mRuntimeError\u001b[0m                              Traceback (most recent call last)",
      "\u001b[0;32m<ipython-input-40-4cc7edcaa542>\u001b[0m in \u001b[0;36m<module>\u001b[0;34m\u001b[0m\n\u001b[0;32m----> 1\u001b[0;31m \u001b[0mtrain_session\u001b[0m\u001b[0;34m.\u001b[0m\u001b[0magents\u001b[0m\u001b[0;34m[\u001b[0m\u001b[0;34m\"a2c_agent\"\u001b[0m\u001b[0;34m]\u001b[0m\u001b[0;34m.\u001b[0m\u001b[0mcritic\u001b[0m\u001b[0;34m(\u001b[0m\u001b[0ms_t\u001b[0m\u001b[0;34m)\u001b[0m\u001b[0;34m\u001b[0m\u001b[0;34m\u001b[0m\u001b[0m\n\u001b[0m",
      "\u001b[0;32m~/anaconda3/lib/python3.7/site-packages/torch/nn/modules/module.py\u001b[0m in \u001b[0;36m__call__\u001b[0;34m(self, *input, **kwargs)\u001b[0m\n\u001b[1;32m    548\u001b[0m             \u001b[0mresult\u001b[0m \u001b[0;34m=\u001b[0m \u001b[0mself\u001b[0m\u001b[0;34m.\u001b[0m\u001b[0m_slow_forward\u001b[0m\u001b[0;34m(\u001b[0m\u001b[0;34m*\u001b[0m\u001b[0minput\u001b[0m\u001b[0;34m,\u001b[0m \u001b[0;34m**\u001b[0m\u001b[0mkwargs\u001b[0m\u001b[0;34m)\u001b[0m\u001b[0;34m\u001b[0m\u001b[0;34m\u001b[0m\u001b[0m\n\u001b[1;32m    549\u001b[0m         \u001b[0;32melse\u001b[0m\u001b[0;34m:\u001b[0m\u001b[0;34m\u001b[0m\u001b[0;34m\u001b[0m\u001b[0m\n\u001b[0;32m--> 550\u001b[0;31m             \u001b[0mresult\u001b[0m \u001b[0;34m=\u001b[0m \u001b[0mself\u001b[0m\u001b[0;34m.\u001b[0m\u001b[0mforward\u001b[0m\u001b[0;34m(\u001b[0m\u001b[0;34m*\u001b[0m\u001b[0minput\u001b[0m\u001b[0;34m,\u001b[0m \u001b[0;34m**\u001b[0m\u001b[0mkwargs\u001b[0m\u001b[0;34m)\u001b[0m\u001b[0;34m\u001b[0m\u001b[0;34m\u001b[0m\u001b[0m\n\u001b[0m\u001b[1;32m    551\u001b[0m         \u001b[0;32mfor\u001b[0m \u001b[0mhook\u001b[0m \u001b[0;32min\u001b[0m \u001b[0mself\u001b[0m\u001b[0;34m.\u001b[0m\u001b[0m_forward_hooks\u001b[0m\u001b[0;34m.\u001b[0m\u001b[0mvalues\u001b[0m\u001b[0;34m(\u001b[0m\u001b[0;34m)\u001b[0m\u001b[0;34m:\u001b[0m\u001b[0;34m\u001b[0m\u001b[0;34m\u001b[0m\u001b[0m\n\u001b[1;32m    552\u001b[0m             \u001b[0mhook_result\u001b[0m \u001b[0;34m=\u001b[0m \u001b[0mhook\u001b[0m\u001b[0;34m(\u001b[0m\u001b[0mself\u001b[0m\u001b[0;34m,\u001b[0m \u001b[0minput\u001b[0m\u001b[0;34m,\u001b[0m \u001b[0mresult\u001b[0m\u001b[0;34m)\u001b[0m\u001b[0;34m\u001b[0m\u001b[0;34m\u001b[0m\u001b[0m\n",
      "\u001b[0;32m~/Documents/work/RL_DNA/a2c.py\u001b[0m in \u001b[0;36mforward\u001b[0;34m(self, x)\u001b[0m\n\u001b[1;32m    113\u001b[0m             \u001b[0mx\u001b[0m \u001b[0;34m=\u001b[0m \u001b[0mself\u001b[0m\u001b[0;34m.\u001b[0m\u001b[0mconv1\u001b[0m\u001b[0;34m(\u001b[0m\u001b[0mx\u001b[0m\u001b[0;34m)\u001b[0m\u001b[0;34m.\u001b[0m\u001b[0msqueeze\u001b[0m\u001b[0;34m(\u001b[0m\u001b[0mdim\u001b[0m\u001b[0;34m=\u001b[0m\u001b[0;36m2\u001b[0m\u001b[0;34m)\u001b[0m\u001b[0;34m\u001b[0m\u001b[0;34m\u001b[0m\u001b[0m\n\u001b[1;32m    114\u001b[0m         \u001b[0mprint\u001b[0m\u001b[0;34m(\u001b[0m\u001b[0mx\u001b[0m\u001b[0;34m.\u001b[0m\u001b[0mshape\u001b[0m\u001b[0;34m)\u001b[0m\u001b[0;34m\u001b[0m\u001b[0;34m\u001b[0m\u001b[0m\n\u001b[0;32m--> 115\u001b[0;31m         \u001b[0mx\u001b[0m \u001b[0;34m=\u001b[0m \u001b[0mself\u001b[0m\u001b[0;34m.\u001b[0m\u001b[0mrelu\u001b[0m\u001b[0;34m(\u001b[0m\u001b[0mself\u001b[0m\u001b[0;34m.\u001b[0m\u001b[0ml1\u001b[0m\u001b[0;34m(\u001b[0m\u001b[0mx\u001b[0m\u001b[0;34m)\u001b[0m\u001b[0;34m)\u001b[0m\u001b[0;34m\u001b[0m\u001b[0;34m\u001b[0m\u001b[0m\n\u001b[0m\u001b[1;32m    116\u001b[0m         \u001b[0mx\u001b[0m \u001b[0;34m=\u001b[0m \u001b[0mself\u001b[0m\u001b[0;34m.\u001b[0m\u001b[0mrelu\u001b[0m\u001b[0;34m(\u001b[0m\u001b[0mself\u001b[0m\u001b[0;34m.\u001b[0m\u001b[0ml2\u001b[0m\u001b[0;34m(\u001b[0m\u001b[0mx\u001b[0m\u001b[0;34m)\u001b[0m\u001b[0;34m)\u001b[0m\u001b[0;34m\u001b[0m\u001b[0;34m\u001b[0m\u001b[0m\n\u001b[1;32m    117\u001b[0m         \u001b[0mx\u001b[0m \u001b[0;34m=\u001b[0m \u001b[0mself\u001b[0m\u001b[0;34m.\u001b[0m\u001b[0mo\u001b[0m\u001b[0;34m(\u001b[0m\u001b[0mx\u001b[0m\u001b[0;34m)\u001b[0m\u001b[0;34m\u001b[0m\u001b[0;34m\u001b[0m\u001b[0m\n",
      "\u001b[0;32m~/anaconda3/lib/python3.7/site-packages/torch/nn/modules/module.py\u001b[0m in \u001b[0;36m__call__\u001b[0;34m(self, *input, **kwargs)\u001b[0m\n\u001b[1;32m    548\u001b[0m             \u001b[0mresult\u001b[0m \u001b[0;34m=\u001b[0m \u001b[0mself\u001b[0m\u001b[0;34m.\u001b[0m\u001b[0m_slow_forward\u001b[0m\u001b[0;34m(\u001b[0m\u001b[0;34m*\u001b[0m\u001b[0minput\u001b[0m\u001b[0;34m,\u001b[0m \u001b[0;34m**\u001b[0m\u001b[0mkwargs\u001b[0m\u001b[0;34m)\u001b[0m\u001b[0;34m\u001b[0m\u001b[0;34m\u001b[0m\u001b[0m\n\u001b[1;32m    549\u001b[0m         \u001b[0;32melse\u001b[0m\u001b[0;34m:\u001b[0m\u001b[0;34m\u001b[0m\u001b[0;34m\u001b[0m\u001b[0m\n\u001b[0;32m--> 550\u001b[0;31m             \u001b[0mresult\u001b[0m \u001b[0;34m=\u001b[0m \u001b[0mself\u001b[0m\u001b[0;34m.\u001b[0m\u001b[0mforward\u001b[0m\u001b[0;34m(\u001b[0m\u001b[0;34m*\u001b[0m\u001b[0minput\u001b[0m\u001b[0;34m,\u001b[0m \u001b[0;34m**\u001b[0m\u001b[0mkwargs\u001b[0m\u001b[0;34m)\u001b[0m\u001b[0;34m\u001b[0m\u001b[0;34m\u001b[0m\u001b[0m\n\u001b[0m\u001b[1;32m    551\u001b[0m         \u001b[0;32mfor\u001b[0m \u001b[0mhook\u001b[0m \u001b[0;32min\u001b[0m \u001b[0mself\u001b[0m\u001b[0;34m.\u001b[0m\u001b[0m_forward_hooks\u001b[0m\u001b[0;34m.\u001b[0m\u001b[0mvalues\u001b[0m\u001b[0;34m(\u001b[0m\u001b[0;34m)\u001b[0m\u001b[0;34m:\u001b[0m\u001b[0;34m\u001b[0m\u001b[0;34m\u001b[0m\u001b[0m\n\u001b[1;32m    552\u001b[0m             \u001b[0mhook_result\u001b[0m \u001b[0;34m=\u001b[0m \u001b[0mhook\u001b[0m\u001b[0;34m(\u001b[0m\u001b[0mself\u001b[0m\u001b[0;34m,\u001b[0m \u001b[0minput\u001b[0m\u001b[0;34m,\u001b[0m \u001b[0mresult\u001b[0m\u001b[0;34m)\u001b[0m\u001b[0;34m\u001b[0m\u001b[0;34m\u001b[0m\u001b[0m\n",
      "\u001b[0;32m~/anaconda3/lib/python3.7/site-packages/torch/nn/modules/linear.py\u001b[0m in \u001b[0;36mforward\u001b[0;34m(self, input)\u001b[0m\n\u001b[1;32m     85\u001b[0m \u001b[0;34m\u001b[0m\u001b[0m\n\u001b[1;32m     86\u001b[0m     \u001b[0;32mdef\u001b[0m \u001b[0mforward\u001b[0m\u001b[0;34m(\u001b[0m\u001b[0mself\u001b[0m\u001b[0;34m,\u001b[0m \u001b[0minput\u001b[0m\u001b[0;34m)\u001b[0m\u001b[0;34m:\u001b[0m\u001b[0;34m\u001b[0m\u001b[0;34m\u001b[0m\u001b[0m\n\u001b[0;32m---> 87\u001b[0;31m         \u001b[0;32mreturn\u001b[0m \u001b[0mF\u001b[0m\u001b[0;34m.\u001b[0m\u001b[0mlinear\u001b[0m\u001b[0;34m(\u001b[0m\u001b[0minput\u001b[0m\u001b[0;34m,\u001b[0m \u001b[0mself\u001b[0m\u001b[0;34m.\u001b[0m\u001b[0mweight\u001b[0m\u001b[0;34m,\u001b[0m \u001b[0mself\u001b[0m\u001b[0;34m.\u001b[0m\u001b[0mbias\u001b[0m\u001b[0;34m)\u001b[0m\u001b[0;34m\u001b[0m\u001b[0;34m\u001b[0m\u001b[0m\n\u001b[0m\u001b[1;32m     88\u001b[0m \u001b[0;34m\u001b[0m\u001b[0m\n\u001b[1;32m     89\u001b[0m     \u001b[0;32mdef\u001b[0m \u001b[0mextra_repr\u001b[0m\u001b[0;34m(\u001b[0m\u001b[0mself\u001b[0m\u001b[0;34m)\u001b[0m\u001b[0;34m:\u001b[0m\u001b[0;34m\u001b[0m\u001b[0;34m\u001b[0m\u001b[0m\n",
      "\u001b[0;32m~/anaconda3/lib/python3.7/site-packages/torch/nn/functional.py\u001b[0m in \u001b[0;36mlinear\u001b[0;34m(input, weight, bias)\u001b[0m\n\u001b[1;32m   1610\u001b[0m         \u001b[0mret\u001b[0m \u001b[0;34m=\u001b[0m \u001b[0mtorch\u001b[0m\u001b[0;34m.\u001b[0m\u001b[0maddmm\u001b[0m\u001b[0;34m(\u001b[0m\u001b[0mbias\u001b[0m\u001b[0;34m,\u001b[0m \u001b[0minput\u001b[0m\u001b[0;34m,\u001b[0m \u001b[0mweight\u001b[0m\u001b[0;34m.\u001b[0m\u001b[0mt\u001b[0m\u001b[0;34m(\u001b[0m\u001b[0;34m)\u001b[0m\u001b[0;34m)\u001b[0m\u001b[0;34m\u001b[0m\u001b[0;34m\u001b[0m\u001b[0m\n\u001b[1;32m   1611\u001b[0m     \u001b[0;32melse\u001b[0m\u001b[0;34m:\u001b[0m\u001b[0;34m\u001b[0m\u001b[0;34m\u001b[0m\u001b[0m\n\u001b[0;32m-> 1612\u001b[0;31m         \u001b[0moutput\u001b[0m \u001b[0;34m=\u001b[0m \u001b[0minput\u001b[0m\u001b[0;34m.\u001b[0m\u001b[0mmatmul\u001b[0m\u001b[0;34m(\u001b[0m\u001b[0mweight\u001b[0m\u001b[0;34m.\u001b[0m\u001b[0mt\u001b[0m\u001b[0;34m(\u001b[0m\u001b[0;34m)\u001b[0m\u001b[0;34m)\u001b[0m\u001b[0;34m\u001b[0m\u001b[0;34m\u001b[0m\u001b[0m\n\u001b[0m\u001b[1;32m   1613\u001b[0m         \u001b[0;32mif\u001b[0m \u001b[0mbias\u001b[0m \u001b[0;32mis\u001b[0m \u001b[0;32mnot\u001b[0m \u001b[0;32mNone\u001b[0m\u001b[0;34m:\u001b[0m\u001b[0;34m\u001b[0m\u001b[0;34m\u001b[0m\u001b[0m\n\u001b[1;32m   1614\u001b[0m             \u001b[0moutput\u001b[0m \u001b[0;34m+=\u001b[0m \u001b[0mbias\u001b[0m\u001b[0;34m\u001b[0m\u001b[0;34m\u001b[0m\u001b[0m\n",
      "\u001b[0;31mRuntimeError\u001b[0m: size mismatch, m1: [4 x 72], m2: [400 x 200] at /opt/conda/conda-bld/pytorch_1587428266983/work/aten/src/THC/generic/THCTensorMathBlas.cu:283"
     ]
    }
   ],
   "source": [
    "train_session.agents[\"a2c_agent\"].critic(s_t)"
   ]
  },
  {
   "cell_type": "code",
   "execution_count": 7,
   "metadata": {},
   "outputs": [],
   "source": [
    "action = np.array([1, 35, 0])\n",
    "co_length, opt_start_point, co_start_point = action\n",
    "opt_seq = np.array([0, 1, 0, 2, 2, 1, 0, 3, 3, 1, 0, 3, 2, 1, 3, 2, 0, 3, \n",
    "                    1, 0, 3, 1, 2, 3, 0, 0, 3, 1, 2, 1, 2, 1, 1, 3, 2, 0])\n",
    "next_opt_seq = np.array([0, 1, 0, 2, 2, 1, 0, 3, 3, 1, 0, 3, 2, 1, 3, 2, 0, 3, \n",
    "                    1, 0, 3, 1, 2, 3, 0, 0, 3, 1, 2, 1, 2, 1, 1, 3, 2, 2])\n",
    "\n",
    "co_seq = np.array([2, 1, 3, 3, 1, 3, 0, 2, 2, 2, 0, 2, 2, 2, 0, 0, 3, 3, 0, 1, 2, 2,\n",
    "                   2, 3, 0, 2, 2, 1, 3, 0, 2, 3, 0, 1, 0, 0])\n",
    "next_co_seq = np.array([0, 1, 3, 3, 1, 3, 0, 2, 2, 2, 0, 2, 2, 2, 0, 0, 3, 3, 0, 1, 2, 2,\n",
    "                   2, 3, 0, 2, 2, 1, 3, 0, 2, 3, 0, 1, 0, 0])"
   ]
  },
  {
   "cell_type": "code",
   "execution_count": 8,
   "metadata": {},
   "outputs": [
    {
     "name": "stdout",
     "output_type": "stream",
     "text": [
      "1\n",
      "[0 1 0 2 2 1 0 3 3 1 0 3 2 1 3 2 0 3 1 0 3 1 2 3 0 0 3 1 2 1 2 1 1 3 2 2]\n",
      "[0 1 3 3 1 3 0 2 2 2 0 2 2 2 0 0 3 3 0 1 2 2 2 3 0 2 2 1 3 0 2 3 0 1 0 0]\n"
     ]
    },
    {
     "data": {
      "text/plain": [
       "True"
      ]
     },
     "execution_count": 8,
     "metadata": {},
     "output_type": "execute_result"
    }
   ],
   "source": [
    "env.cross_over_unitary_test(action, opt_seq, co_seq, next_opt_seq, next_co_seq)"
   ]
  },
  {
   "cell_type": "code",
   "execution_count": 11,
   "metadata": {},
   "outputs": [],
   "source": [
    "action = np.array([34, 4, 3])\n",
    "co_length, opt_start_point, co_start_point = action"
   ]
  },
  {
   "cell_type": "code",
   "execution_count": 12,
   "metadata": {},
   "outputs": [
    {
     "data": {
      "text/plain": [
       "32"
      ]
     },
     "execution_count": 12,
     "metadata": {},
     "output_type": "execute_result"
    }
   ],
   "source": [
    "min(co_length, (36) - max(opt_start_point, co_start_point))"
   ]
  },
  {
   "cell_type": "code",
   "execution_count": 13,
   "metadata": {},
   "outputs": [
    {
     "data": {
      "text/plain": [
       "array([2, 3, 0, 2, 2, 2, 0, 2, 2, 2, 0, 0, 3, 3, 0, 1, 2, 2, 2, 3, 0, 2,\n",
       "       2, 1, 3, 0, 2, 3, 0, 1, 0, 0])"
      ]
     },
     "execution_count": 13,
     "metadata": {},
     "output_type": "execute_result"
    }
   ],
   "source": [
    "co_seq[4: 4+32]"
   ]
  },
  {
   "cell_type": "code",
   "execution_count": 14,
   "metadata": {},
   "outputs": [
    {
     "ename": "IndexError",
     "evalue": "index 36 is out of bounds for axis 0 with size 36",
     "output_type": "error",
     "traceback": [
      "\u001b[0;31m---------------------------------------------------------------------------\u001b[0m",
      "\u001b[0;31mIndexError\u001b[0m                                Traceback (most recent call last)",
      "\u001b[0;32m<ipython-input-14-3cd790e03b27>\u001b[0m in \u001b[0;36m<module>\u001b[0;34m\u001b[0m\n\u001b[0;32m----> 1\u001b[0;31m \u001b[0mco_seq\u001b[0m\u001b[0;34m[\u001b[0m\u001b[0;36m36\u001b[0m\u001b[0;34m]\u001b[0m\u001b[0;34m\u001b[0m\u001b[0;34m\u001b[0m\u001b[0m\n\u001b[0m",
      "\u001b[0;31mIndexError\u001b[0m: index 36 is out of bounds for axis 0 with size 36"
     ]
    }
   ],
   "source": [
    "co_seq[36]"
   ]
  },
  {
   "cell_type": "code",
   "execution_count": 28,
   "metadata": {},
   "outputs": [],
   "source": [
    "l.append(action.tolist() + [1])"
   ]
  },
  {
   "cell_type": "code",
   "execution_count": 29,
   "metadata": {},
   "outputs": [
    {
     "data": {
      "text/plain": [
       "[[1, 35, 0], [1, 35, 0], None, None, [1, 35, 0, 1]]"
      ]
     },
     "execution_count": 29,
     "metadata": {},
     "output_type": "execute_result"
    }
   ],
   "source": [
    "l"
   ]
  },
  {
   "cell_type": "code",
   "execution_count": 15,
   "metadata": {},
   "outputs": [
    {
     "data": {
      "text/plain": [
       "[[11, 23, 3, True],\n",
       " [13, 4, 14, False],\n",
       " [18, 27, 35, False],\n",
       " [30, 25, 35, False],\n",
       " [14, 16, 10, False],\n",
       " [33, 1, 7, False],\n",
       " [7, 23, 1, False],\n",
       " [11, 4, 9, True],\n",
       " [31, 32, 0, False],\n",
       " [31, 4, 28, False],\n",
       " [18, 23, 29, False],\n",
       " [28, 27, 31, False],\n",
       " [23, 32, 0, False],\n",
       " [1, 11, 23, False],\n",
       " [12, 22, 24, False],\n",
       " [33, 28, 4, False],\n",
       " [5, 12, 25, False],\n",
       " [21, 18, 20, False],\n",
       " [15, 34, 13, False],\n",
       " [31, 9, 30, False],\n",
       " [35, 33, 14, False],\n",
       " [13, 29, 13, False],\n",
       " [25, 32, 3, False],\n",
       " [9, 0, 4, False],\n",
       " [4, 24, 11, False],\n",
       " [9, 26, 8, False],\n",
       " [29, 29, 0, False],\n",
       " [31, 14, 30, False],\n",
       " [12, 17, 10, False],\n",
       " [23, 33, 35, False],\n",
       " [5, 29, 7, False],\n",
       " [21, 1, 27, False],\n",
       " [20, 16, 1, False],\n",
       " [16, 8, 2, False],\n",
       " [24, 21, 26, False],\n",
       " [21, 34, 2, False],\n",
       " [17, 19, 35, False],\n",
       " [14, 31, 7, False],\n",
       " [1, 15, 2, False],\n",
       " [31, 28, 31, False],\n",
       " [17, 14, 32, False],\n",
       " [29, 19, 20, False],\n",
       " [13, 5, 25, False],\n",
       " [18, 17, 26, False],\n",
       " [12, 20, 24, False],\n",
       " [31, 7, 26, False],\n",
       " [22, 6, 8, False],\n",
       " [21, 12, 14, False],\n",
       " [22, 6, 10, False],\n",
       " [20, 31, 21, False],\n",
       " [9, 20, 6, False],\n",
       " [10, 29, 24, False],\n",
       " [14, 28, 32, False],\n",
       " [35, 3, 3, False],\n",
       " [8, 20, 0, False],\n",
       " [34, 24, 1, False],\n",
       " [28, 11, 22, False],\n",
       " [11, 0, 26, True],\n",
       " [8, 18, 13, False],\n",
       " [15, 23, 0, False],\n",
       " [30, 13, 29, False],\n",
       " [17, 22, 7, False],\n",
       " [15, 8, 19, False],\n",
       " [16, 6, 32, False],\n",
       " [10, 11, 17, False],\n",
       " [22, 35, 7, False],\n",
       " [1, 29, 25, False],\n",
       " [23, 9, 5, False],\n",
       " [26, 32, 0, False],\n",
       " [25, 12, 25, False],\n",
       " [6, 3, 35, False],\n",
       " [1, 13, 19, False],\n",
       " [5, 20, 8, False],\n",
       " [24, 5, 35, False],\n",
       " [14, 7, 18, False],\n",
       " [35, 0, 5, False],\n",
       " [12, 20, 13, False],\n",
       " [9, 29, 25, False],\n",
       " [3, 26, 18, False],\n",
       " [7, 6, 25, False],\n",
       " [26, 31, 24, False],\n",
       " [13, 26, 35, False],\n",
       " [27, 25, 31, False],\n",
       " [35, 5, 9, False],\n",
       " [30, 15, 23, False],\n",
       " [3, 31, 5, False],\n",
       " [7, 34, 1, False],\n",
       " [13, 2, 32, False],\n",
       " [17, 19, 7, False],\n",
       " [19, 24, 28, False],\n",
       " [33, 14, 33, False],\n",
       " [21, 30, 0, False],\n",
       " [29, 18, 33, False],\n",
       " [7, 24, 23, False],\n",
       " [9, 28, 19, False],\n",
       " [24, 35, 29, False],\n",
       " [11, 25, 8, True],\n",
       " [33, 14, 24, False],\n",
       " [10, 20, 6, False],\n",
       " [27, 30, 10, False],\n",
       " [23, 15, 35, False],\n",
       " [12, 32, 10, False],\n",
       " [26, 14, 24, False],\n",
       " [12, 0, 17, False],\n",
       " [16, 24, 33, False],\n",
       " [18, 20, 4, False],\n",
       " [6, 26, 32, False],\n",
       " [22, 20, 19, False],\n",
       " [35, 4, 20, False],\n",
       " [26, 22, 5, False],\n",
       " [5, 1, 27, False],\n",
       " [34, 8, 19, False],\n",
       " [7, 27, 32, False],\n",
       " [0, 24, 18, False],\n",
       " [31, 11, 13, False],\n",
       " [16, 7, 20, False],\n",
       " [6, 31, 10, False],\n",
       " [32, 25, 20, False],\n",
       " [19, 8, 22, False],\n",
       " [9, 21, 32, False],\n",
       " [5, 4, 28, False],\n",
       " [4, 14, 3, False],\n",
       " [4, 25, 23, False],\n",
       " [7, 17, 19, False],\n",
       " [13, 32, 34, False],\n",
       " [28, 1, 33, False],\n",
       " [32, 30, 26, False],\n",
       " [18, 8, 21, False],\n",
       " [11, 6, 25, True],\n",
       " [23, 18, 1, False],\n",
       " [28, 13, 0, False],\n",
       " [18, 29, 12, False],\n",
       " [23, 0, 1, False],\n",
       " [12, 25, 30, False],\n",
       " [17, 8, 12, False],\n",
       " [25, 18, 12, False],\n",
       " [1, 15, 18, False],\n",
       " [5, 2, 35, False],\n",
       " [31, 17, 24, False],\n",
       " [7, 24, 21, False],\n",
       " [19, 2, 32, False],\n",
       " [21, 1, 24, False],\n",
       " [14, 0, 20, False],\n",
       " [10, 8, 29, False],\n",
       " [5, 2, 19, False],\n",
       " [19, 31, 30, False],\n",
       " [25, 1, 9, False],\n",
       " [32, 0, 7, False],\n",
       " [5, 16, 1, False],\n",
       " [11, 26, 10, True],\n",
       " [24, 34, 3, False],\n",
       " [22, 25, 10, False],\n",
       " [24, 24, 8, False],\n",
       " [7, 11, 13, False],\n",
       " [20, 24, 7, False],\n",
       " [19, 12, 28, False],\n",
       " [9, 21, 34, False],\n",
       " [12, 15, 24, False],\n",
       " [16, 27, 0, False],\n",
       " [2, 29, 31, False],\n",
       " [20, 15, 22, False],\n",
       " [33, 19, 23, False],\n",
       " [17, 25, 12, False],\n",
       " [8, 8, 26, False],\n",
       " [13, 5, 30, False],\n",
       " [19, 34, 18, False],\n",
       " [22, 17, 25, False],\n",
       " [23, 2, 22, False],\n",
       " [15, 23, 10, False],\n",
       " [20, 23, 28, False],\n",
       " [0, 4, 0, False],\n",
       " [5, 31, 25, False],\n",
       " [8, 2, 12, False],\n",
       " [23, 7, 19, False],\n",
       " [8, 25, 26, False],\n",
       " [28, 0, 15, False],\n",
       " [10, 13, 21, False],\n",
       " [35, 14, 9, False],\n",
       " [34, 13, 27, False],\n",
       " [25, 34, 16, False],\n",
       " [22, 28, 32, False],\n",
       " [33, 30, 11, False],\n",
       " [18, 35, 33, False],\n",
       " [35, 1, 19, False],\n",
       " [2, 14, 25, False],\n",
       " [11, 9, 10, True],\n",
       " [5, 24, 25, False],\n",
       " [4, 2, 5, False],\n",
       " [35, 23, 12, False],\n",
       " [29, 34, 28, False],\n",
       " [8, 1, 32, False],\n",
       " [7, 31, 17, False],\n",
       " [33, 8, 34, False],\n",
       " [10, 6, 22, False],\n",
       " [7, 26, 27, False],\n",
       " [22, 13, 26, False],\n",
       " [8, 14, 29, False],\n",
       " [16, 7, 25, False],\n",
       " [26, 16, 25, False],\n",
       " [26, 7, 13, False],\n",
       " [4, 27, 0, False],\n",
       " [0, 34, 4, False],\n",
       " [23, 4, 29, False],\n",
       " [26, 7, 31, False],\n",
       " [10, 19, 34, False],\n",
       " [17, 3, 10, False],\n",
       " [26, 31, 27, False],\n",
       " [19, 7, 19, False],\n",
       " [19, 2, 18, False],\n",
       " [1, 5, 13, False],\n",
       " [12, 31, 9, False],\n",
       " [24, 23, 18, False],\n",
       " [24, 29, 5, False],\n",
       " [3, 9, 16, False],\n",
       " [30, 16, 18, False],\n",
       " [34, 9, 18, False],\n",
       " [34, 8, 25, False],\n",
       " [5, 0, 11, False],\n",
       " [10, 24, 7, False],\n",
       " [23, 10, 22, False],\n",
       " [14, 33, 15, False],\n",
       " [10, 6, 22, False],\n",
       " [0, 9, 25, False],\n",
       " [2, 21, 28, False],\n",
       " [31, 29, 30, False],\n",
       " [19, 35, 1, False],\n",
       " [16, 1, 17, False],\n",
       " [12, 3, 29, False],\n",
       " [24, 4, 26, False],\n",
       " [18, 31, 26, False],\n",
       " [18, 11, 35, False],\n",
       " [15, 11, 18, False],\n",
       " [4, 9, 5, False],\n",
       " [28, 11, 27, False],\n",
       " [7, 10, 2, False],\n",
       " [33, 35, 31, False],\n",
       " [16, 5, 32, False],\n",
       " [31, 9, 21, False],\n",
       " [3, 10, 20, False],\n",
       " [23, 9, 23, False],\n",
       " [34, 28, 30, False],\n",
       " [4, 12, 10, False],\n",
       " [0, 23, 0, False],\n",
       " [33, 27, 10, False],\n",
       " [20, 34, 16, False],\n",
       " [22, 27, 16, False],\n",
       " [6, 25, 26, False],\n",
       " [11, 4, 32, True],\n",
       " [20, 2, 21, False],\n",
       " [31, 10, 0, False],\n",
       " [12, 17, 18, False],\n",
       " [7, 19, 24, False],\n",
       " [7, 9, 26, False],\n",
       " [34, 32, 17, False],\n",
       " [7, 33, 1, False],\n",
       " [21, 15, 2, False],\n",
       " [1, 16, 32, False],\n",
       " [5, 30, 26, False],\n",
       " [27, 19, 18, False],\n",
       " [10, 12, 33, False],\n",
       " [33, 20, 35, False],\n",
       " [1, 33, 29, False],\n",
       " [20, 26, 24, False],\n",
       " [5, 31, 12, False],\n",
       " [6, 17, 17, False],\n",
       " [3, 23, 9, False],\n",
       " [26, 19, 14, False],\n",
       " [8, 3, 18, False],\n",
       " [35, 20, 28, False],\n",
       " [0, 6, 3, False],\n",
       " [29, 15, 0, False],\n",
       " [17, 11, 26, False],\n",
       " [11, 8, 5, True],\n",
       " [0, 33, 27, False],\n",
       " [26, 3, 26, False],\n",
       " [17, 22, 24, False],\n",
       " [0, 21, 17, False],\n",
       " [11, 32, 19, True],\n",
       " [23, 14, 8, False],\n",
       " [8, 35, 26, False],\n",
       " [4, 0, 15, False],\n",
       " [15, 12, 7, False],\n",
       " [29, 17, 27, False],\n",
       " [10, 25, 16, False],\n",
       " [35, 14, 29, False],\n",
       " [0, 24, 31, False],\n",
       " [6, 19, 20, False],\n",
       " [3, 20, 29, False],\n",
       " [24, 32, 8, False],\n",
       " [0, 23, 31, False],\n",
       " [3, 12, 33, False],\n",
       " [26, 10, 19, False],\n",
       " [18, 20, 10, False],\n",
       " [20, 34, 35, False],\n",
       " [15, 5, 11, False],\n",
       " [16, 33, 0, False],\n",
       " [12, 23, 7, False],\n",
       " [10, 9, 10, False],\n",
       " [5, 12, 9, False],\n",
       " [24, 3, 8, False],\n",
       " [33, 1, 19, False],\n",
       " [20, 1, 33, False],\n",
       " [31, 13, 27, False],\n",
       " [22, 17, 7, False],\n",
       " [6, 18, 13, False],\n",
       " [32, 18, 7, False],\n",
       " [8, 0, 11, False],\n",
       " [14, 30, 32, False],\n",
       " [16, 15, 27, False],\n",
       " [33, 9, 29, False],\n",
       " [8, 15, 3, False],\n",
       " [21, 24, 20, False],\n",
       " [22, 35, 14, False],\n",
       " [13, 4, 5, False],\n",
       " [15, 8, 0, False],\n",
       " [17, 5, 11, False],\n",
       " [21, 34, 7, False],\n",
       " [6, 16, 17, False],\n",
       " [15, 12, 35, False],\n",
       " [12, 14, 13, False],\n",
       " [23, 1, 20, False],\n",
       " [20, 10, 30, False],\n",
       " [13, 14, 5, False],\n",
       " [29, 12, 9, False],\n",
       " [23, 20, 21, False],\n",
       " [5, 33, 2, False],\n",
       " [21, 23, 1, False],\n",
       " [25, 12, 7, False],\n",
       " [26, 14, 27, False],\n",
       " [28, 2, 10, False],\n",
       " [7, 19, 33, False],\n",
       " [12, 23, 11, False],\n",
       " [27, 7, 23, False],\n",
       " [6, 23, 27, False],\n",
       " [2, 15, 32, False],\n",
       " [35, 19, 17, False],\n",
       " [6, 2, 15, False],\n",
       " [20, 5, 24, False],\n",
       " [11, 12, 31, True],\n",
       " [10, 1, 24, False],\n",
       " [17, 18, 2, False],\n",
       " [17, 29, 21, False],\n",
       " [12, 1, 4, False],\n",
       " [4, 12, 6, False],\n",
       " [23, 7, 10, False],\n",
       " [9, 18, 1, False],\n",
       " [9, 11, 1, False],\n",
       " [19, 11, 19, False],\n",
       " [34, 14, 12, False],\n",
       " [28, 20, 16, False],\n",
       " [21, 22, 27, False],\n",
       " [18, 27, 1, False],\n",
       " [24, 17, 34, False],\n",
       " [17, 33, 15, False],\n",
       " [7, 33, 3, False],\n",
       " [33, 0, 11, False],\n",
       " [33, 17, 12, False],\n",
       " [18, 17, 10, False],\n",
       " [29, 30, 6, False],\n",
       " [24, 1, 19, False],\n",
       " [8, 27, 10, False],\n",
       " [14, 18, 31, False],\n",
       " [15, 1, 5, False],\n",
       " [20, 5, 18, False],\n",
       " [6, 1, 17, False],\n",
       " [16, 14, 15, False],\n",
       " [20, 11, 18, False],\n",
       " [21, 14, 22, False],\n",
       " [21, 4, 12, False],\n",
       " [12, 5, 31, False],\n",
       " [0, 12, 17, False],\n",
       " [6, 7, 20, False],\n",
       " [12, 13, 34, False],\n",
       " [26, 34, 20, False],\n",
       " [35, 2, 29, False],\n",
       " [23, 32, 33, False],\n",
       " [1, 4, 18, False],\n",
       " [7, 14, 14, False],\n",
       " [20, 23, 22, False],\n",
       " [7, 13, 16, False],\n",
       " [26, 0, 20, False],\n",
       " [7, 32, 0, False],\n",
       " [22, 2, 21, False],\n",
       " [33, 11, 20, False],\n",
       " [27, 18, 4, False],\n",
       " [11, 16, 11, True],\n",
       " [31, 15, 15, False],\n",
       " [27, 30, 4, False],\n",
       " [33, 6, 14, False],\n",
       " [14, 20, 28, False],\n",
       " [5, 2, 2, False],\n",
       " [21, 33, 25, False],\n",
       " [25, 26, 23, False],\n",
       " [28, 3, 32, False],\n",
       " [6, 15, 22, False],\n",
       " [3, 15, 12, False],\n",
       " [2, 6, 11, False],\n",
       " [34, 32, 30, False],\n",
       " [33, 12, 4, False],\n",
       " [14, 32, 15, False],\n",
       " [4, 15, 21, False],\n",
       " [7, 18, 20, False],\n",
       " [25, 24, 28, False],\n",
       " [5, 20, 12, False],\n",
       " [13, 16, 5, False],\n",
       " [19, 24, 15, False],\n",
       " [33, 11, 9, False],\n",
       " [34, 25, 5, False],\n",
       " [1, 20, 11, False],\n",
       " [14, 27, 20, False],\n",
       " [35, 12, 30, False],\n",
       " [32, 24, 9, False],\n",
       " [8, 11, 18, False],\n",
       " [23, 29, 2, False],\n",
       " [34, 32, 7, False],\n",
       " [29, 30, 26, False],\n",
       " [12, 3, 28, False],\n",
       " [23, 13, 23, False],\n",
       " [9, 3, 31, False],\n",
       " [17, 8, 4, False],\n",
       " [23, 20, 13, False],\n",
       " [23, 9, 17, False],\n",
       " [23, 2, 22, False],\n",
       " [1, 30, 20, False],\n",
       " [7, 32, 20, False],\n",
       " [11, 28, 23, True],\n",
       " [30, 5, 22, False],\n",
       " [30, 3, 28, False],\n",
       " [7, 20, 5, False],\n",
       " [16, 33, 1, False],\n",
       " [31, 31, 8, False],\n",
       " [16, 6, 2, False],\n",
       " [31, 5, 24, False],\n",
       " [32, 16, 33, False],\n",
       " [22, 7, 32, False],\n",
       " [22, 31, 26, False],\n",
       " [34, 7, 28, False],\n",
       " [17, 9, 0, False],\n",
       " [6, 13, 34, False],\n",
       " [8, 4, 11, False],\n",
       " [25, 7, 2, False],\n",
       " [12, 5, 35, False],\n",
       " [15, 20, 30, False],\n",
       " [31, 30, 16, False],\n",
       " [9, 2, 25, False],\n",
       " [34, 32, 6, False],\n",
       " [12, 32, 17, False],\n",
       " [34, 23, 12, False],\n",
       " [34, 0, 19, False],\n",
       " [2, 16, 16, False],\n",
       " [29, 35, 7, False],\n",
       " [28, 29, 18, False],\n",
       " [27, 35, 2, False],\n",
       " [9, 6, 10, False],\n",
       " [13, 5, 18, False],\n",
       " [23, 16, 21, False],\n",
       " [24, 7, 23, False],\n",
       " [7, 6, 17, False],\n",
       " [14, 26, 32, False],\n",
       " [0, 10, 29, False],\n",
       " [27, 1, 27, False],\n",
       " [15, 20, 33, False],\n",
       " [32, 6, 30, False],\n",
       " [6, 5, 5, False],\n",
       " [20, 21, 15, False],\n",
       " [2, 25, 18, False],\n",
       " [33, 3, 28, False],\n",
       " [7, 4, 8, False],\n",
       " [16, 11, 30, False],\n",
       " [28, 28, 25, False],\n",
       " [7, 35, 31, False],\n",
       " [33, 1, 5, False],\n",
       " [21, 13, 0, False],\n",
       " [33, 0, 28, False],\n",
       " [22, 31, 2, False],\n",
       " [7, 29, 12, False],\n",
       " [11, 35, 22, True],\n",
       " [32, 31, 30, False],\n",
       " [35, 18, 19, False],\n",
       " [17, 15, 29, False],\n",
       " [9, 17, 18, False],\n",
       " [27, 2, 32, False],\n",
       " [10, 21, 1, False],\n",
       " [3, 10, 19, False],\n",
       " [29, 1, 34, False],\n",
       " [33, 9, 11, False],\n",
       " [13, 32, 11, False],\n",
       " [19, 23, 25, False],\n",
       " [29, 21, 24, False],\n",
       " [8, 32, 3, False],\n",
       " [16, 19, 31, False],\n",
       " [14, 13, 5, False],\n",
       " [27, 29, 14, False],\n",
       " [11, 1, 3, True],\n",
       " [3, 29, 34, False],\n",
       " [21, 14, 16, False],\n",
       " [0, 32, 31, False],\n",
       " [11, 13, 15, True],\n",
       " [31, 25, 28, False],\n",
       " [11, 34, 23, True],\n",
       " [30, 3, 12, False],\n",
       " [33, 15, 24, False],\n",
       " [2, 35, 8, False],\n",
       " [28, 13, 8, False],\n",
       " [29, 19, 28, False],\n",
       " [8, 35, 16, False],\n",
       " [7, 10, 14, False],\n",
       " [11, 31, 19, True],\n",
       " [26, 16, 29, False],\n",
       " [4, 27, 35, False],\n",
       " [7, 31, 31, False],\n",
       " [5, 16, 1, False],\n",
       " [17, 19, 7, False],\n",
       " [29, 4, 22, False],\n",
       " [30, 20, 33, False],\n",
       " [27, 25, 17, False],\n",
       " [10, 5, 27, False],\n",
       " [31, 24, 31, False],\n",
       " [7, 10, 13, False],\n",
       " [18, 18, 23, False],\n",
       " [30, 19, 8, False],\n",
       " [31, 0, 9, False],\n",
       " [18, 26, 12, False],\n",
       " [23, 27, 24, False],\n",
       " [34, 24, 0, False],\n",
       " [22, 15, 9, False],\n",
       " [29, 8, 8, False],\n",
       " [31, 7, 12, False],\n",
       " [24, 0, 9, False],\n",
       " [0, 21, 10, False],\n",
       " [9, 29, 21, False],\n",
       " [28, 27, 23, False],\n",
       " [19, 18, 34, False],\n",
       " [34, 3, 3, False],\n",
       " [11, 4, 15, True],\n",
       " [3, 9, 17, False],\n",
       " [21, 5, 14, False],\n",
       " [5, 21, 17, False],\n",
       " [5, 11, 21, False],\n",
       " [29, 17, 21, False],\n",
       " [9, 25, 20, False],\n",
       " [18, 3, 28, False],\n",
       " [35, 3, 32, False],\n",
       " [10, 25, 11, False],\n",
       " [8, 24, 18, False],\n",
       " [28, 11, 27, False],\n",
       " [35, 9, 29, False],\n",
       " [15, 23, 34, False],\n",
       " [2, 9, 17, False],\n",
       " [22, 25, 23, False],\n",
       " [34, 19, 29, False],\n",
       " [16, 11, 4, False],\n",
       " [35, 3, 7, False],\n",
       " [28, 11, 28, False],\n",
       " [32, 11, 34, False],\n",
       " [13, 7, 23, False],\n",
       " [20, 2, 14, False],\n",
       " [19, 20, 21, False],\n",
       " [4, 26, 17, False],\n",
       " [10, 15, 24, False],\n",
       " [21, 22, 25, False],\n",
       " [15, 34, 23, False],\n",
       " [26, 13, 28, False],\n",
       " [1, 34, 6, False],\n",
       " [15, 3, 22, False],\n",
       " [19, 23, 3, False],\n",
       " [26, 35, 6, False],\n",
       " [1, 10, 11, False],\n",
       " [31, 9, 2, False],\n",
       " [0, 7, 19, False],\n",
       " [4, 19, 23, False],\n",
       " [1, 11, 0, False],\n",
       " [13, 10, 28, False],\n",
       " [2, 5, 26, False],\n",
       " [8, 14, 2, False],\n",
       " [10, 28, 26, False],\n",
       " [5, 7, 8, False],\n",
       " [10, 15, 23, False],\n",
       " [22, 31, 22, False],\n",
       " [0, 6, 28, False],\n",
       " [20, 9, 4, False],\n",
       " [23, 21, 35, False],\n",
       " [17, 32, 7, False],\n",
       " [31, 13, 31, False],\n",
       " [27, 3, 30, False],\n",
       " [6, 28, 22, False],\n",
       " [23, 35, 11, False],\n",
       " [1, 1, 4, False],\n",
       " [8, 0, 4, False],\n",
       " [17, 15, 17, False],\n",
       " [24, 30, 20, False],\n",
       " [29, 27, 2, False],\n",
       " [25, 32, 29, False],\n",
       " [21, 21, 27, False],\n",
       " [17, 12, 22, False],\n",
       " [9, 35, 19, False],\n",
       " [35, 33, 14, False],\n",
       " [11, 20, 11, True],\n",
       " [15, 11, 4, False],\n",
       " [0, 34, 0, False],\n",
       " [2, 23, 35, False],\n",
       " [16, 7, 31, False],\n",
       " [32, 33, 6, False],\n",
       " [30, 1, 1, False],\n",
       " [0, 33, 33, False],\n",
       " [15, 30, 0, False],\n",
       " [1, 5, 23, False],\n",
       " [10, 8, 26, False],\n",
       " [16, 16, 1, False],\n",
       " [35, 26, 15, False],\n",
       " [13, 11, 21, False],\n",
       " [14, 0, 17, False],\n",
       " [21, 17, 7, False],\n",
       " [5, 5, 30, False],\n",
       " [16, 22, 35, False],\n",
       " [32, 2, 26, False],\n",
       " [2, 20, 24, False],\n",
       " [9, 3, 13, False],\n",
       " [14, 23, 23, False],\n",
       " [35, 3, 22, False],\n",
       " [28, 5, 25, False],\n",
       " [0, 27, 6, False],\n",
       " [24, 12, 2, False],\n",
       " [20, 5, 8, False],\n",
       " [30, 25, 11, False],\n",
       " [24, 17, 5, False],\n",
       " [2, 3, 10, False],\n",
       " [27, 0, 13, False],\n",
       " [1, 28, 31, False],\n",
       " [14, 16, 8, False],\n",
       " [21, 8, 5, False],\n",
       " [18, 7, 6, False],\n",
       " [13, 6, 23, False],\n",
       " [0, 8, 35, False],\n",
       " [19, 29, 7, False],\n",
       " [21, 0, 4, False],\n",
       " [29, 26, 15, False],\n",
       " [31, 7, 9, False],\n",
       " [17, 15, 3, False],\n",
       " [33, 32, 35, False],\n",
       " [28, 27, 22, False],\n",
       " [2, 10, 18, False],\n",
       " [33, 3, 16, False],\n",
       " [27, 13, 11, False],\n",
       " [4, 3, 24, False],\n",
       " [21, 5, 7, False],\n",
       " [19, 11, 15, False],\n",
       " [26, 18, 8, False],\n",
       " [35, 15, 18, False],\n",
       " [3, 9, 25, False],\n",
       " [10, 15, 27, False],\n",
       " [9, 33, 23, False],\n",
       " [21, 16, 30, False],\n",
       " [16, 31, 29, False],\n",
       " [1, 14, 28, False],\n",
       " [5, 2, 31, False],\n",
       " [4, 28, 7, False],\n",
       " [17, 25, 8, False],\n",
       " [17, 1, 8, False],\n",
       " [26, 35, 24, False],\n",
       " [14, 11, 11, False],\n",
       " [26, 20, 34, False],\n",
       " [21, 3, 8, False],\n",
       " [10, 15, 9, False],\n",
       " [1, 3, 11, False],\n",
       " [25, 5, 11, False],\n",
       " [13, 21, 32, False],\n",
       " [2, 12, 32, False],\n",
       " [17, 32, 32, False],\n",
       " [15, 13, 15, False],\n",
       " [12, 3, 10, False],\n",
       " [35, 26, 3, False],\n",
       " [11, 12, 28, True],\n",
       " [2, 33, 17, False],\n",
       " [11, 12, 19, True],\n",
       " [5, 20, 12, False],\n",
       " [29, 24, 2, False],\n",
       " [20, 33, 4, False],\n",
       " [7, 14, 15, False],\n",
       " [14, 25, 22, False],\n",
       " [10, 31, 1, False],\n",
       " [17, 9, 21, False],\n",
       " [31, 27, 4, False],\n",
       " [0, 12, 0, False],\n",
       " [23, 25, 17, False],\n",
       " [2, 4, 5, False],\n",
       " [26, 11, 5, False],\n",
       " [26, 11, 35, False],\n",
       " [19, 30, 28, False],\n",
       " [27, 24, 31, False],\n",
       " [18, 26, 19, False],\n",
       " [21, 1, 22, False],\n",
       " [29, 4, 8, False],\n",
       " [2, 33, 19, False],\n",
       " [13, 3, 7, False],\n",
       " [11, 15, 28, True],\n",
       " [9, 19, 23, False],\n",
       " [1, 34, 3, False],\n",
       " [14, 17, 23, False],\n",
       " [10, 3, 12, False],\n",
       " [15, 19, 8, False],\n",
       " [27, 14, 17, False],\n",
       " [5, 1, 2, False],\n",
       " [17, 28, 26, False],\n",
       " [8, 12, 35, False],\n",
       " [0, 24, 17, False],\n",
       " [6, 27, 1, False],\n",
       " [9, 9, 4, False],\n",
       " [15, 17, 35, False],\n",
       " [7, 20, 22, False],\n",
       " [26, 11, 0, False],\n",
       " [25, 27, 20, False],\n",
       " [15, 13, 15, False],\n",
       " [32, 19, 16, False],\n",
       " [31, 12, 14, False],\n",
       " [24, 6, 7, False],\n",
       " [22, 33, 30, False],\n",
       " [10, 11, 8, False],\n",
       " [17, 22, 19, False],\n",
       " [8, 6, 10, False],\n",
       " [4, 11, 34, False],\n",
       " [12, 4, 12, False],\n",
       " [16, 9, 30, False],\n",
       " [11, 8, 28, True],\n",
       " [19, 6, 22, False],\n",
       " [7, 4, 5, False],\n",
       " [16, 26, 35, False],\n",
       " [26, 26, 13, False],\n",
       " [27, 32, 17, False],\n",
       " [22, 5, 34, False],\n",
       " [30, 17, 23, False],\n",
       " [24, 22, 26, False],\n",
       " [25, 31, 2, False],\n",
       " [24, 1, 24, False],\n",
       " [5, 24, 6, False],\n",
       " [5, 26, 2, False],\n",
       " [3, 5, 24, False],\n",
       " [12, 19, 24, False],\n",
       " [15, 18, 30, False],\n",
       " [25, 6, 31, False],\n",
       " [22, 29, 0, False],\n",
       " [20, 29, 27, False],\n",
       " [2, 31, 0, False],\n",
       " [18, 26, 1, False],\n",
       " [5, 32, 17, False],\n",
       " [31, 24, 31, False],\n",
       " [0, 32, 1, False],\n",
       " [2, 9, 10, False],\n",
       " [25, 11, 0, False],\n",
       " [28, 10, 10, False],\n",
       " [1, 18, 2, False],\n",
       " [4, 3, 11, False],\n",
       " [9, 14, 23, False],\n",
       " [11, 27, 17, True],\n",
       " [9, 14, 15, False],\n",
       " [21, 34, 7, False],\n",
       " [15, 34, 14, False],\n",
       " [19, 13, 7, False],\n",
       " [29, 1, 18, False],\n",
       " [10, 25, 12, False],\n",
       " [11, 13, 4, True],\n",
       " [23, 16, 28, False],\n",
       " [14, 9, 35, False],\n",
       " [7, 15, 11, False],\n",
       " [35, 7, 15, False],\n",
       " [0, 22, 18, False],\n",
       " [27, 30, 7, False],\n",
       " [22, 16, 28, False],\n",
       " [2, 14, 27, False],\n",
       " [14, 1, 28, False],\n",
       " [6, 1, 8, False],\n",
       " [7, 25, 34, False],\n",
       " [5, 31, 35, False],\n",
       " [9, 23, 20, False],\n",
       " [30, 35, 3, False],\n",
       " [30, 3, 4, False],\n",
       " [11, 33, 20, True],\n",
       " [20, 29, 5, False],\n",
       " [29, 24, 1, False],\n",
       " [12, 34, 29, False],\n",
       " [24, 11, 7, False],\n",
       " [28, 33, 18, False],\n",
       " [2, 19, 20, False],\n",
       " [6, 6, 11, False],\n",
       " [22, 16, 14, False],\n",
       " [25, 22, 18, False],\n",
       " [14, 17, 23, False],\n",
       " [4, 24, 2, False],\n",
       " [7, 20, 7, False],\n",
       " [12, 11, 20, False],\n",
       " [0, 4, 4, False],\n",
       " [32, 8, 6, False],\n",
       " [16, 20, 21, False],\n",
       " [20, 8, 0, False],\n",
       " [32, 9, 28, False],\n",
       " [23, 30, 30, False],\n",
       " [27, 17, 17, False],\n",
       " [12, 25, 2, False],\n",
       " [34, 22, 0, False],\n",
       " [23, 24, 2, False],\n",
       " [23, 22, 34, False],\n",
       " [3, 28, 9, False],\n",
       " [34, 9, 17, False],\n",
       " [6, 20, 22, False],\n",
       " [4, 2, 6, False],\n",
       " [11, 34, 16, True],\n",
       " [10, 8, 3, False],\n",
       " [32, 6, 20, False],\n",
       " [21, 0, 27, False],\n",
       " [10, 26, 17, False],\n",
       " [11, 13, 24, True],\n",
       " [1, 8, 8, False],\n",
       " [27, 22, 30, False],\n",
       " [19, 23, 4, False],\n",
       " [5, 30, 25, False],\n",
       " [14, 3, 4, False],\n",
       " [11, 33, 14, True],\n",
       " [28, 3, 20, False],\n",
       " [19, 10, 8, False],\n",
       " [12, 16, 27, False],\n",
       " [35, 6, 19, False],\n",
       " [3, 19, 5, False],\n",
       " [35, 25, 35, False],\n",
       " [4, 0, 18, False],\n",
       " [0, 13, 5, False],\n",
       " [23, 35, 14, False],\n",
       " [0, 24, 27, False],\n",
       " [34, 17, 17, False],\n",
       " [23, 31, 32, False],\n",
       " [1, 24, 9, False],\n",
       " [22, 31, 7, False],\n",
       " [17, 5, 16, False],\n",
       " [6, 17, 19, False],\n",
       " [2, 23, 22, False],\n",
       " [16, 20, 4, False],\n",
       " [32, 2, 3, False],\n",
       " [26, 6, 3, False],\n",
       " [17, 18, 25, False],\n",
       " [3, 22, 23, False],\n",
       " [9, 8, 5, False],\n",
       " [11, 28, 19, True],\n",
       " [31, 19, 24, False],\n",
       " [31, 21, 33, False],\n",
       " [29, 30, 12, False],\n",
       " [9, 34, 13, False],\n",
       " [23, 24, 7, False],\n",
       " [4, 15, 11, False],\n",
       " [0, 10, 34, False],\n",
       " [8, 25, 31, False],\n",
       " [25, 31, 7, False],\n",
       " [18, 8, 26, False],\n",
       " [12, 8, 26, False],\n",
       " [20, 21, 30, False],\n",
       " [5, 3, 21, False],\n",
       " [28, 19, 1, False],\n",
       " [31, 32, 3, False],\n",
       " [14, 17, 34, False],\n",
       " [8, 8, 14, False],\n",
       " [14, 24, 14, False],\n",
       " [24, 28, 30, False],\n",
       " [33, 30, 1, False],\n",
       " [18, 6, 7, False],\n",
       " [3, 18, 6, False],\n",
       " [32, 19, 32, False],\n",
       " [6, 25, 5, False],\n",
       " [13, 2, 15, False],\n",
       " [5, 12, 26, False],\n",
       " [29, 11, 9, False],\n",
       " [32, 17, 3, False],\n",
       " [28, 2, 9, False],\n",
       " [20, 18, 10, False],\n",
       " [32, 0, 29, False],\n",
       " [26, 20, 9, False],\n",
       " [8, 4, 27, False],\n",
       " [31, 25, 35, False],\n",
       " [26, 3, 5, False],\n",
       " [28, 2, 31, False],\n",
       " [21, 19, 17, False],\n",
       " [2, 12, 17, False],\n",
       " [35, 10, 33, False],\n",
       " [8, 29, 10, False],\n",
       " [22, 26, 0, False],\n",
       " [17, 26, 21, False],\n",
       " [31, 21, 11, False],\n",
       " [31, 30, 6, False],\n",
       " [20, 26, 19, False],\n",
       " [9, 2, 29, False],\n",
       " [10, 3, 0, False],\n",
       " [21, 15, 25, False],\n",
       " [11, 18, 24, True],\n",
       " [17, 21, 3, False],\n",
       " [21, 4, 6, False],\n",
       " [28, 30, 0, False],\n",
       " [9, 23, 0, False],\n",
       " [5, 6, 18, False],\n",
       " [26, 32, 21, False],\n",
       " [17, 17, 2, False],\n",
       " [28, 4, 16, False],\n",
       " [17, 34, 18, False],\n",
       " [20, 16, 17, False],\n",
       " [9, 7, 35, False],\n",
       " [17, 0, 34, False],\n",
       " [24, 20, 9, False],\n",
       " [11, 10, 8, True],\n",
       " [34, 31, 10, False],\n",
       " [25, 6, 25, False],\n",
       " [2, 29, 0, False],\n",
       " [32, 18, 2, False],\n",
       " [27, 6, 15, False],\n",
       " [32, 3, 15, False],\n",
       " [12, 18, 29, False],\n",
       " [20, 18, 6, False],\n",
       " [1, 11, 5, False],\n",
       " [15, 25, 4, False],\n",
       " [31, 18, 13, False],\n",
       " [16, 7, 31, False],\n",
       " [25, 24, 6, False],\n",
       " [13, 23, 19, False],\n",
       " [28, 3, 33, False],\n",
       " [18, 8, 6, False],\n",
       " [19, 8, 11, False],\n",
       " [34, 7, 32, False],\n",
       " [5, 34, 29, False],\n",
       " [31, 5, 8, False],\n",
       " [9, 6, 15, False],\n",
       " [23, 32, 21, False],\n",
       " [35, 4, 6, False],\n",
       " [0, 29, 13, False],\n",
       " [1, 14, 23, False],\n",
       " [20, 33, 34, False],\n",
       " [34, 32, 16, False],\n",
       " [21, 20, 12, False],\n",
       " [29, 7, 32, False],\n",
       " [13, 21, 12, False],\n",
       " [0, 7, 28, False],\n",
       " [3, 31, 9, False],\n",
       " [20, 11, 25, False],\n",
       " [30, 1, 12, False],\n",
       " [33, 16, 31, False],\n",
       " [6, 28, 12, False],\n",
       " [20, 31, 12, False],\n",
       " [30, 16, 12, False],\n",
       " [3, 16, 31, False],\n",
       " [33, 30, 13, False],\n",
       " [21, 31, 30, False],\n",
       " [15, 11, 10, False],\n",
       " [31, 27, 19, False],\n",
       " [3, 23, 9, False],\n",
       " [19, 20, 1, False],\n",
       " [30, 32, 3, False],\n",
       " [26, 20, 31, False],\n",
       " [29, 7, 1, False],\n",
       " [29, 32, 17, False],\n",
       " [34, 23, 29, False],\n",
       " [7, 28, 24, False],\n",
       " [11, 16, 22, True],\n",
       " [14, 24, 5, False],\n",
       " [34, 7, 3, False],\n",
       " [25, 3, 18, False],\n",
       " [5, 15, 14, False],\n",
       " [8, 32, 34, False],\n",
       " [34, 13, 18, False],\n",
       " [17, 26, 13, False],\n",
       " [23, 23, 33, False],\n",
       " [21, 12, 4, False],\n",
       " [30, 18, 2, False],\n",
       " [8, 9, 3, False],\n",
       " [27, 14, 25, False],\n",
       " [32, 35, 16, False],\n",
       " [35, 31, 18, False],\n",
       " [25, 22, 17, False],\n",
       " [16, 4, 35, False],\n",
       " [4, 11, 32, False],\n",
       " [29, 10, 30, False],\n",
       " [9, 4, 6, False],\n",
       " [24, 2, 25, False],\n",
       " [25, 0, 18, False],\n",
       " [29, 8, 31, False],\n",
       " [20, 35, 15, False],\n",
       " [31, 14, 7, False],\n",
       " [20, 2, 19, False],\n",
       " [26, 10, 7, False],\n",
       " [28, 14, 18, False],\n",
       " [2, 30, 23, False],\n",
       " [5, 28, 19, False],\n",
       " [21, 27, 5, False],\n",
       " [13, 31, 11, False],\n",
       " [26, 21, 34, False],\n",
       " [32, 30, 13, False],\n",
       " [27, 6, 28, False],\n",
       " [7, 25, 31, False],\n",
       " [33, 21, 31, False],\n",
       " [29, 33, 3, False],\n",
       " [10, 27, 4, False],\n",
       " [14, 23, 22, False],\n",
       " [26, 35, 10, False],\n",
       " [25, 4, 7, False],\n",
       " [5, 32, 12, False],\n",
       " [1, 17, 23, False],\n",
       " [13, 9, 34, False],\n",
       " ...]"
      ]
     },
     "execution_count": 15,
     "metadata": {},
     "output_type": "execute_result"
    }
   ],
   "source": [
    "env.actions_history"
   ]
  },
  {
   "cell_type": "code",
   "execution_count": 25,
   "metadata": {},
   "outputs": [],
   "source": [
    "import pandas as pd"
   ]
  },
  {
   "cell_type": "code",
   "execution_count": 50,
   "metadata": {},
   "outputs": [
    {
     "ename": "AttributeError",
     "evalue": "'DataFrame' object has no attribute 'value_counts'",
     "output_type": "error",
     "traceback": [
      "\u001b[0;31m---------------------------------------------------------------------------\u001b[0m",
      "\u001b[0;31mAttributeError\u001b[0m                            Traceback (most recent call last)",
      "\u001b[0;32m<ipython-input-50-7fbdb3be44c3>\u001b[0m in \u001b[0;36m<module>\u001b[0;34m\u001b[0m\n\u001b[0;32m----> 1\u001b[0;31m \u001b[0mpd\u001b[0m\u001b[0;34m.\u001b[0m\u001b[0mDataFrame\u001b[0m\u001b[0;34m(\u001b[0m\u001b[0ma_h\u001b[0m\u001b[0;34m)\u001b[0m\u001b[0;34m.\u001b[0m\u001b[0mvalue_counts\u001b[0m\u001b[0;34m(\u001b[0m\u001b[0msort\u001b[0m\u001b[0;34m=\u001b[0m\u001b[0;32mFalse\u001b[0m\u001b[0;34m)\u001b[0m\u001b[0;34m.\u001b[0m\u001b[0mplot\u001b[0m\u001b[0;34m(\u001b[0m\u001b[0mkind\u001b[0m\u001b[0;34m=\u001b[0m\u001b[0;34m'bar'\u001b[0m\u001b[0;34m)\u001b[0m\u001b[0;34m\u001b[0m\u001b[0;34m\u001b[0m\u001b[0m\n\u001b[0m",
      "\u001b[0;32m~/anaconda3/lib/python3.7/site-packages/pandas/core/generic.py\u001b[0m in \u001b[0;36m__getattr__\u001b[0;34m(self, name)\u001b[0m\n\u001b[1;32m   5272\u001b[0m             \u001b[0;32mif\u001b[0m \u001b[0mself\u001b[0m\u001b[0;34m.\u001b[0m\u001b[0m_info_axis\u001b[0m\u001b[0;34m.\u001b[0m\u001b[0m_can_hold_identifiers_and_holds_name\u001b[0m\u001b[0;34m(\u001b[0m\u001b[0mname\u001b[0m\u001b[0;34m)\u001b[0m\u001b[0;34m:\u001b[0m\u001b[0;34m\u001b[0m\u001b[0;34m\u001b[0m\u001b[0m\n\u001b[1;32m   5273\u001b[0m                 \u001b[0;32mreturn\u001b[0m \u001b[0mself\u001b[0m\u001b[0;34m[\u001b[0m\u001b[0mname\u001b[0m\u001b[0;34m]\u001b[0m\u001b[0;34m\u001b[0m\u001b[0;34m\u001b[0m\u001b[0m\n\u001b[0;32m-> 5274\u001b[0;31m             \u001b[0;32mreturn\u001b[0m \u001b[0mobject\u001b[0m\u001b[0;34m.\u001b[0m\u001b[0m__getattribute__\u001b[0m\u001b[0;34m(\u001b[0m\u001b[0mself\u001b[0m\u001b[0;34m,\u001b[0m \u001b[0mname\u001b[0m\u001b[0;34m)\u001b[0m\u001b[0;34m\u001b[0m\u001b[0;34m\u001b[0m\u001b[0m\n\u001b[0m\u001b[1;32m   5275\u001b[0m \u001b[0;34m\u001b[0m\u001b[0m\n\u001b[1;32m   5276\u001b[0m     \u001b[0;32mdef\u001b[0m \u001b[0m__setattr__\u001b[0m\u001b[0;34m(\u001b[0m\u001b[0mself\u001b[0m\u001b[0;34m,\u001b[0m \u001b[0mname\u001b[0m\u001b[0;34m:\u001b[0m \u001b[0mstr\u001b[0m\u001b[0;34m,\u001b[0m \u001b[0mvalue\u001b[0m\u001b[0;34m)\u001b[0m \u001b[0;34m->\u001b[0m \u001b[0;32mNone\u001b[0m\u001b[0;34m:\u001b[0m\u001b[0;34m\u001b[0m\u001b[0;34m\u001b[0m\u001b[0m\n",
      "\u001b[0;31mAttributeError\u001b[0m: 'DataFrame' object has no attribute 'value_counts'"
     ]
    }
   ],
   "source": [
    "pd.DataFrame(a_h).value_counts(sort=False).plot(kind='bar')"
   ]
  },
  {
   "cell_type": "code",
   "execution_count": 16,
   "metadata": {},
   "outputs": [],
   "source": [
    "a_h = np.array(env.actions_history)"
   ]
  },
  {
   "cell_type": "code",
   "execution_count": 21,
   "metadata": {},
   "outputs": [
    {
     "data": {
      "text/plain": [
       "0.8730833333333333"
      ]
     },
     "execution_count": 21,
     "metadata": {},
     "output_type": "execute_result"
    }
   ],
   "source": [
    "a_h[:, 3].sum()/len(a_h)"
   ]
  },
  {
   "cell_type": "code",
   "execution_count": 19,
   "metadata": {},
   "outputs": [
    {
     "data": {
      "text/plain": [
       "[<matplotlib.lines.Line2D at 0x7f966cf915d0>]"
      ]
     },
     "execution_count": 19,
     "metadata": {},
     "output_type": "execute_result"
    },
    {
     "data": {
      "image/png": "[encoded data removed]",
      "text/plain": [
       "<Figure size 432x288 with 1 Axes>"
      ]
     },
     "metadata": {},
     "output_type": "display_data"
    }
   ],
   "source": [
    "plt.plot(range(len(a_h)), a_h[:, 3])"
   ]
  },
  {
   "cell_type": "code",
   "execution_count": 51,
   "metadata": {},
   "outputs": [],
   "source": [
    "d = pd.DataFrame(a_h)"
   ]
  },
  {
   "cell_type": "code",
   "execution_count": 54,
   "metadata": {},
   "outputs": [
    {
     "name": "stdout",
     "output_type": "stream",
     "text": [
      "0\n",
      "1\n",
      "2\n",
      "3\n"
     ]
    }
   ],
   "source": [
    "for c in d.columns:\n",
    "    print(c)"
   ]
  },
  {
   "cell_type": "code",
   "execution_count": 15,
   "metadata": {},
   "outputs": [],
   "source": [
    "import torch\n",
    "import numpy as np"
   ]
  },
  {
   "cell_type": "code",
   "execution_count": 16,
   "metadata": {},
   "outputs": [],
   "source": [
    "p = torch.tensor([0.1, 0.3, 0.6])\n",
    "d = torch.distributions.Categorical(probs=p)"
   ]
  },
  {
   "cell_type": "code",
   "execution_count": 17,
   "metadata": {},
   "outputs": [],
   "source": [
    "actions = list()\n",
    "for _ in range(3):\n",
    "    a = d.sample()\n",
    "    actions.append(a)"
   ]
  },
  {
   "cell_type": "code",
   "execution_count": 18,
   "metadata": {},
   "outputs": [
    {
     "data": {
      "text/plain": [
       "tensor([2, 0, 0], device='cuda:0')"
      ]
     },
     "execution_count": 18,
     "metadata": {},
     "output_type": "execute_result"
    }
   ],
   "source": [
    "torch.tensor(actions).cuda()"
   ]
  },
  {
   "cell_type": "code",
   "execution_count": 21,
   "metadata": {},
   "outputs": [],
   "source": [
    "import utils\n",
    "ab = utils.to_tensor(actions).long()"
   ]
  },
  {
   "cell_type": "code",
   "execution_count": 23,
   "metadata": {},
   "outputs": [
    {
     "data": {
      "text/plain": [
       "tensor(2, device='cuda:0')"
      ]
     },
     "execution_count": 23,
     "metadata": {},
     "output_type": "execute_result"
    }
   ],
   "source": [
    "ab[0]"
   ]
  },
  {
   "cell_type": "code",
   "execution_count": 1,
   "metadata": {},
   "outputs": [],
   "source": [
    "import os"
   ]
  },
  {
   "cell_type": "code",
   "execution_count": 2,
   "metadata": {},
   "outputs": [],
   "source": [
    "data_path = os.environ['PDBX_UBC'] + '/data/GA/Raluca/Combined_Max_Myc_Mad_Mad_r_log.xlsx'"
   ]
  },
  {
   "cell_type": "code",
   "execution_count": 3,
   "metadata": {},
   "outputs": [
    {
     "data": {
      "text/plain": [
       "'/home/benoit/Documents/work/PDBX_UBC/data/GA/Raluca/Combined_Max_Myc_Mad_Mad_r_log.xlsx'"
      ]
     },
     "execution_count": 3,
     "metadata": {},
     "output_type": "execute_result"
    }
   ],
   "source": [
    "data_path"
   ]
  },
  {
   "cell_type": "code",
   "execution_count": 4,
   "metadata": {},
   "outputs": [],
   "source": [
    "import pandas as pd"
   ]
  },
  {
   "cell_type": "code",
   "execution_count": 43,
   "metadata": {},
   "outputs": [
    {
     "data": {
      "text/plain": [
       "'CCCACCCGCCGCGCCCACGCGTGCCGCGGTCGCTTG'"
      ]
     },
     "execution_count": 43,
     "metadata": {},
     "output_type": "execute_result"
    }
   ],
   "source": [
    "pd.read_excel(data_path, usecols=['Sequence']).values[0][0]."
   ]
  },
  {
   "cell_type": "code",
   "execution_count": 68,
   "metadata": {},
   "outputs": [],
   "source": [
    "import numpy as np"
   ]
  },
  {
   "cell_type": "code",
   "execution_count": 57,
   "metadata": {},
   "outputs": [],
   "source": [
    "a = pd.read_excel(data_path)['Sequence'].values"
   ]
  },
  {
   "cell_type": "code",
   "execution_count": 76,
   "metadata": {},
   "outputs": [
    {
     "data": {
      "text/plain": [
       "array(['CCCACCCGCCGCGCCCACGCGTGCCGCGGTCGCTTG',\n",
       "       'CGGACCCTGGCTCTCCACGCGCCTCCGACATGGCGG',\n",
       "       'GAAGAGGACGGCATGCATGCGGACCCCGTCCACCAC', ...,\n",
       "       'AGGGACTAGATTTTTTCTATTTTCTACCTAACAGGA',\n",
       "       'ACAAGATACAGAAAGGTGGTTTGCCATTTTCTAGCA',\n",
       "       'GTTCTTTGTCAGCGATGTCCCCAACAATGGGCAGAA'], dtype=object)"
      ]
     },
     "execution_count": 76,
     "metadata": {},
     "output_type": "execute_result"
    }
   ],
   "source": [
    "a"
   ]
  },
  {
   "cell_type": "code",
   "execution_count": 112,
   "metadata": {},
   "outputs": [],
   "source": [
    "li = iter([np.vectorize(d.get)(list(sequence)) for sequence in a[:3]])"
   ]
  },
  {
   "cell_type": "code",
   "execution_count": 111,
   "metadata": {},
   "outputs": [
    {
     "name": "stdout",
     "output_type": "stream",
     "text": [
      "lol\n"
     ]
    }
   ],
   "source": [
    "try:\n",
    "    print(next(li))\n",
    "except StopIteration:\n",
    "    print(\"lol\")"
   ]
  },
  {
   "cell_type": "code",
   "execution_count": 71,
   "metadata": {},
   "outputs": [
    {
     "data": {
      "text/plain": [
       "array(None, dtype=object)"
      ]
     },
     "execution_count": 71,
     "metadata": {},
     "output_type": "execute_result"
    }
   ],
   "source": [
    "np.vectorize(d.get)(list(a[0]))"
   ]
  },
  {
   "cell_type": "code",
   "execution_count": null,
   "metadata": {},
   "outputs": [],
   "source": [
    "a.apply(lambda s: )"
   ]
  },
  {
   "cell_type": "code",
   "execution_count": 46,
   "metadata": {},
   "outputs": [],
   "source": [
    "s1 = 'CCCACCCGCCGCGCCCACGCGTGCCGCGGTCGCTTG'\n",
    "d = {'A': 0, 'T': 1, 'G': 2, 'C': 3}"
   ]
  },
  {
   "cell_type": "code",
   "execution_count": 56,
   "metadata": {},
   "outputs": [
    {
     "ename": "TypeError",
     "evalue": "replace() argument 2 must be str, not int",
     "output_type": "error",
     "traceback": [
      "\u001b[0;31m---------------------------------------------------------------------------\u001b[0m",
      "\u001b[0;31mTypeError\u001b[0m                                 Traceback (most recent call last)",
      "\u001b[0;32m<ipython-input-56-b3b2b5e2ca87>\u001b[0m in \u001b[0;36m<module>\u001b[0;34m\u001b[0m\n\u001b[1;32m      1\u001b[0m \u001b[0;32mfor\u001b[0m \u001b[0mkey\u001b[0m \u001b[0;32min\u001b[0m \u001b[0md\u001b[0m\u001b[0;34m.\u001b[0m\u001b[0mkeys\u001b[0m\u001b[0;34m(\u001b[0m\u001b[0;34m)\u001b[0m\u001b[0;34m:\u001b[0m\u001b[0;34m\u001b[0m\u001b[0;34m\u001b[0m\u001b[0m\n\u001b[0;32m----> 2\u001b[0;31m     \u001b[0ms1\u001b[0m\u001b[0;34m.\u001b[0m\u001b[0mreplace\u001b[0m\u001b[0;34m(\u001b[0m\u001b[0mkey\u001b[0m\u001b[0;34m,\u001b[0m \u001b[0md\u001b[0m\u001b[0;34m[\u001b[0m\u001b[0mkey\u001b[0m\u001b[0;34m]\u001b[0m\u001b[0;34m)\u001b[0m\u001b[0;34m\u001b[0m\u001b[0;34m\u001b[0m\u001b[0m\n\u001b[0m",
      "\u001b[0;31mTypeError\u001b[0m: replace() argument 2 must be str, not int"
     ]
    }
   ],
   "source": [
    "for key in d.keys():\n",
    "    s1.replace(key, d[key])"
   ]
  },
  {
   "cell_type": "code",
   "execution_count": 55,
   "metadata": {},
   "outputs": [
    {
     "data": {
      "text/plain": [
       "'CCCACCCGCCGCGCCCACGCGTGCCGCGGTCGCTTG'"
      ]
     },
     "execution_count": 55,
     "metadata": {},
     "output_type": "execute_result"
    }
   ],
   "source": [
    "s1"
   ]
  },
  {
   "cell_type": "code",
   "execution_count": 54,
   "metadata": {},
   "outputs": [
    {
     "data": {
      "text/plain": [
       "'ATGCAGGCACTTAAGCACGTGGACTACCACCGACAG'"
      ]
     },
     "execution_count": 54,
     "metadata": {},
     "output_type": "execute_result"
    }
   ],
   "source": [
    "next(b)"
   ]
  },
  {
   "cell_type": "code",
   "execution_count": 33,
   "metadata": {},
   "outputs": [],
   "source": [
    "c = iter([1, 2, 3, 4])"
   ]
  },
  {
   "cell_type": "code",
   "execution_count": 40,
   "metadata": {},
   "outputs": [
    {
     "ename": "AttributeError",
     "evalue": "'list_iterator' object has no attribute 'empty'",
     "output_type": "error",
     "traceback": [
      "\u001b[0;31m---------------------------------------------------------------------------\u001b[0m",
      "\u001b[0;31mAttributeError\u001b[0m                            Traceback (most recent call last)",
      "\u001b[0;32m<ipython-input-40-fe095caa1f7b>\u001b[0m in \u001b[0;36m<module>\u001b[0;34m\u001b[0m\n\u001b[0;32m----> 1\u001b[0;31m \u001b[0mc\u001b[0m\u001b[0;34m.\u001b[0m\u001b[0mempty\u001b[0m\u001b[0;34m\u001b[0m\u001b[0;34m\u001b[0m\u001b[0m\n\u001b[0m",
      "\u001b[0;31mAttributeError\u001b[0m: 'list_iterator' object has no attribute 'empty'"
     ]
    }
   ],
   "source": [
    "c."
   ]
  },
  {
   "cell_type": "code",
   "execution_count": 5,
   "metadata": {},
   "outputs": [],
   "source": [
    "import torch"
   ]
  },
  {
   "cell_type": "code",
   "execution_count": 8,
   "metadata": {},
   "outputs": [],
   "source": [
    "a = torch.randn(5, 4)"
   ]
  },
  {
   "cell_type": "code",
   "execution_count": 10,
   "metadata": {},
   "outputs": [
    {
     "data": {
      "text/plain": [
       "tensor([[-0.8476,  0.0168,  0.5648, -1.6220],\n",
       "        [-0.5868,  0.3167,  1.5650,  0.0653]])"
      ]
     },
     "execution_count": 10,
     "metadata": {},
     "output_type": "execute_result"
    }
   ],
   "source": [
    "a[2:4]"
   ]
  },
  {
   "cell_type": "code",
   "execution_count": null,
   "metadata": {},
   "outputs": [],
   "source": []
  }
 ],
 "metadata": {
  "kernelspec": {
   "display_name": "Python 3",
   "language": "python",
   "name": "python3"
  },
  "language_info": {
   "codemirror_mode": {
    "name": "ipython",
    "version": 3
   },
   "file_extension": ".py",
   "mimetype": "text/x-python",
   "name": "python",
   "nbconvert_exporter": "python",
   "pygments_lexer": "ipython3",
   "version": "3.7.6"
  }
 },
 "nbformat": 4,
 "nbformat_minor": 4
}
