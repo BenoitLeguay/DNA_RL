{
 "cells": [
  {
   "cell_type": "code",
   "execution_count": 1,
   "metadata": {},
   "outputs": [],
   "source": [
    "import dna_env\n",
    "import numpy as np\n",
    "import time"
   ]
  },
  {
   "cell_type": "code",
   "execution_count": 2,
   "metadata": {},
   "outputs": [],
   "source": [
    "sequence_length = 5\n",
    "env = dna_env.DnaRLEnv(sequence_length=sequence_length)"
   ]
  },
  {
   "cell_type": "code",
   "execution_count": 3,
   "metadata": {},
   "outputs": [],
   "source": [
    "render = True"
   ]
  },
  {
   "cell_type": "code",
   "execution_count": 5,
   "metadata": {
    "scrolled": false
   },
   "outputs": [
    {
     "name": "stdout",
     "output_type": "stream",
     "text": [
      "opt seq\t:\t ['A' 'G' 'C' 'T' 'A']\n",
      "co seq\t:\t ['T' 'G' 'T' 'G' 'C']\n",
      "0.13140980899333954\n",
      "--------------------------------------\n",
      "opt seq\t:\t ['A' 'G' 'C' 'T' 'A']\n",
      "co seq\t:\t ['T' 'G' 'T' 'G' 'C']\n",
      "0.13604553043842316\n",
      "--------------------------------------\n",
      "opt seq\t:\t ['A' 'G' 'G' 'T' 'A']\n",
      "co seq\t:\t ['T' 'G' 'T' 'C' 'C']\n",
      "0.14909768104553223\n",
      "--------------------------------------\n",
      "opt seq\t:\t ['A' 'G' 'G' 'C' 'A']\n",
      "co seq\t:\t ['T' 'G' 'T' 'T' 'C']\n",
      "0.12568363547325134\n",
      "--------------------------------------\n",
      "opt seq\t:\t ['A' 'G' 'G' 'G' 'A']\n",
      "co seq\t:\t ['T' 'C' 'T' 'T' 'C']\n",
      "0.13921350240707397\n",
      "--------------------------------------\n",
      "opt seq\t:\t ['A' 'T' 'G' 'G' 'A']\n",
      "co seq\t:\t ['T' 'C' 'T' 'G' 'C']\n",
      "0.12426934391260147\n",
      "--------------------------------------\n",
      "opt seq\t:\t ['A' 'C' 'T' 'G' 'A']\n",
      "co seq\t:\t ['T' 'T' 'G' 'G' 'C']\n",
      "0.14947623014450073\n",
      "--------------------------------------\n",
      "opt seq\t:\t ['A' 'C' 'T' 'T' 'A']\n",
      "co seq\t:\t ['T' 'G' 'G' 'G' 'C']\n",
      "0.1367437243461609\n",
      "--------------------------------------\n",
      "opt seq\t:\t ['A' 'C' 'G' 'G' 'A']\n",
      "co seq\t:\t ['T' 'T' 'T' 'G' 'C']\n",
      "0.13698148727416992\n",
      "--------------------------------------\n",
      "opt seq\t:\t ['A' 'C' 'G' 'T' 'A']\n",
      "co seq\t:\t ['T' 'T' 'G' 'G' 'C']\n",
      "0.13698148727416992\n",
      "--------------------------------------\n"
     ]
    }
   ],
   "source": [
    "state = env.reset()\n",
    "for _ in range(10):\n",
    "    if render:\n",
    "        env.render()\n",
    "    time.sleep(1)\n",
    "    action = np.random.randint(sequence_length-2, size=(3, ))+1\n",
    "    state, reward = env.step(action)\n",
    "    print(reward)\n",
    "    print(\"--------------------------------------\")\n",
    "    "
   ]
  },
  {
   "cell_type": "raw",
   "metadata": {},
   "source": []
  },
  {
   "cell_type": "code",
   "execution_count": 6,
   "metadata": {},
   "outputs": [
    {
     "ename": "NameError",
     "evalue": "name 'oracle_handler' is not defined",
     "output_type": "error",
     "traceback": [
      "\u001b[0;31m---------------------------------------------------------------------------\u001b[0m",
      "\u001b[0;31mNameError\u001b[0m                                 Traceback (most recent call last)",
      "\u001b[0;32m<ipython-input-6-1324f29dcc84>\u001b[0m in \u001b[0;36m<module>\u001b[0;34m\u001b[0m\n\u001b[1;32m      1\u001b[0m \u001b[0;32mimport\u001b[0m \u001b[0mtorch\u001b[0m\u001b[0;34m\u001b[0m\u001b[0;34m\u001b[0m\u001b[0m\n\u001b[1;32m      2\u001b[0m \u001b[0mt\u001b[0m \u001b[0;34m=\u001b[0m \u001b[0mtorch\u001b[0m\u001b[0;34m.\u001b[0m\u001b[0mrandint\u001b[0m\u001b[0;34m(\u001b[0m\u001b[0;36m2\u001b[0m\u001b[0;34m,\u001b[0m \u001b[0;34m(\u001b[0m\u001b[0;36m10\u001b[0m\u001b[0;34m,\u001b[0m \u001b[0;36m4\u001b[0m\u001b[0;34m,\u001b[0m \u001b[0;36m36\u001b[0m\u001b[0;34m)\u001b[0m\u001b[0;34m)\u001b[0m\u001b[0;34m\u001b[0m\u001b[0;34m\u001b[0m\u001b[0m\n\u001b[0;32m----> 3\u001b[0;31m \u001b[0moracle_handler\u001b[0m\u001b[0;34m.\u001b[0m\u001b[0mpredict\u001b[0m\u001b[0;34m(\u001b[0m\u001b[0mt\u001b[0m\u001b[0;34m)\u001b[0m\u001b[0;34m\u001b[0m\u001b[0;34m\u001b[0m\u001b[0m\n\u001b[0m",
      "\u001b[0;31mNameError\u001b[0m: name 'oracle_handler' is not defined"
     ]
    }
   ],
   "source": [
    "import torch\n",
    "t = torch.randint(2, (10, 4, 36))\n",
    "oracle_handler.predict(t)"
   ]
  },
  {
   "cell_type": "code",
   "execution_count": 9,
   "metadata": {},
   "outputs": [
    {
     "data": {
      "text/plain": [
       "tensor([[[1, 1, 1,  ..., 1, 0, 1],\n",
       "         [1, 1, 0,  ..., 1, 0, 0],\n",
       "         [0, 1, 0,  ..., 1, 1, 0],\n",
       "         [1, 1, 1,  ..., 1, 1, 0]],\n",
       "\n",
       "        [[0, 1, 0,  ..., 0, 1, 0],\n",
       "         [1, 0, 0,  ..., 0, 1, 0],\n",
       "         [0, 0, 1,  ..., 0, 0, 1],\n",
       "         [0, 1, 0,  ..., 0, 1, 0]],\n",
       "\n",
       "        [[1, 1, 1,  ..., 1, 0, 0],\n",
       "         [0, 1, 1,  ..., 1, 1, 0],\n",
       "         [0, 0, 1,  ..., 0, 0, 1],\n",
       "         [1, 1, 0,  ..., 0, 1, 0]],\n",
       "\n",
       "        ...,\n",
       "\n",
       "        [[1, 1, 0,  ..., 1, 1, 0],\n",
       "         [1, 0, 0,  ..., 0, 1, 0],\n",
       "         [0, 1, 1,  ..., 1, 0, 0],\n",
       "         [0, 0, 0,  ..., 1, 0, 1]],\n",
       "\n",
       "        [[1, 0, 0,  ..., 0, 1, 1],\n",
       "         [0, 1, 1,  ..., 0, 1, 1],\n",
       "         [1, 1, 1,  ..., 1, 0, 0],\n",
       "         [1, 0, 1,  ..., 1, 1, 1]],\n",
       "\n",
       "        [[0, 0, 0,  ..., 0, 0, 0],\n",
       "         [0, 0, 1,  ..., 0, 0, 0],\n",
       "         [0, 1, 0,  ..., 1, 1, 0],\n",
       "         [0, 0, 0,  ..., 1, 1, 1]]])"
      ]
     },
     "execution_count": 9,
     "metadata": {},
     "output_type": "execute_result"
    }
   ],
   "source": [
    "t"
   ]
  },
  {
   "cell_type": "code",
   "execution_count": null,
   "metadata": {},
   "outputs": [],
   "source": [
    "import utils\n",
    "t = utils.to_tensor(state[0])"
   ]
  },
  {
   "cell_type": "code",
   "execution_count": 16,
   "metadata": {},
   "outputs": [
    {
     "data": {
      "text/plain": [
       "tensor([[[0., 1., 0., 0.],\n",
       "         [1., 0., 0., 0.],\n",
       "         [0., 1., 0., 0.],\n",
       "         [0., 0., 0., 1.],\n",
       "         [0., 1., 0., 0.]]], device='cuda:0')"
      ]
     },
     "execution_count": 16,
     "metadata": {},
     "output_type": "execute_result"
    }
   ],
   "source": [
    "t.view((1, )+ state[0].shape)"
   ]
  },
  {
   "cell_type": "code",
   "execution_count": 8,
   "metadata": {},
   "outputs": [
    {
     "data": {
      "text/plain": [
       "array([[0., 0., 0., 1.],\n",
       "       [0., 0., 0., 1.],\n",
       "       [0., 0., 0., 1.],\n",
       "       [0., 0., 1., 0.],\n",
       "       [0., 0., 1., 0.]])"
      ]
     },
     "execution_count": 8,
     "metadata": {},
     "output_type": "execute_result"
    }
   ],
   "source": [
    "env.optimization_sequence"
   ]
  },
  {
   "cell_type": "code",
   "execution_count": 9,
   "metadata": {},
   "outputs": [
    {
     "data": {
      "text/plain": [
       "array([3, 3, 3, 2, 2])"
      ]
     },
     "execution_count": 9,
     "metadata": {},
     "output_type": "execute_result"
    }
   ],
   "source": [
    "np.argmax(env.optimization_sequence, axis=1)"
   ]
  },
  {
   "cell_type": "code",
   "execution_count": 14,
   "metadata": {},
   "outputs": [],
   "source": [
    "a = np.vectorize(env.nucleotides_mapping_reversed.get)(np.argmax(env.optimization_sequence, axis=1))"
   ]
  },
  {
   "cell_type": "code",
   "execution_count": 16,
   "metadata": {},
   "outputs": [
    {
     "name": "stdout",
     "output_type": "stream",
     "text": [
      "opt sequence: ['C' 'T' 'A' 'C' 'G']\n"
     ]
    }
   ],
   "source": [
    "print(f\"opt sequence: {a}\")"
   ]
  },
  {
   "cell_type": "code",
   "execution_count": 36,
   "metadata": {},
   "outputs": [],
   "source": [
    "s = np.random.choice([0, 1, 2, 3], size=(36, ))\n",
    "s1 = np.random.choice([0, 1, 2, 3], size=(36, ))"
   ]
  },
  {
   "cell_type": "code",
   "execution_count": 37,
   "metadata": {},
   "outputs": [],
   "source": [
    "s_onhot = env.one_hot_encoder.transform(s.reshape(-1, 1)).T\n",
    "s1_onhot = env.one_hot_encoder.transform(s1.reshape(-1, 1)).T"
   ]
  },
  {
   "cell_type": "code",
   "execution_count": 38,
   "metadata": {},
   "outputs": [
    {
     "data": {
      "text/plain": [
       "(4, 36)"
      ]
     },
     "execution_count": 38,
     "metadata": {},
     "output_type": "execute_result"
    }
   ],
   "source": [
    "s_onhot.shape"
   ]
  },
  {
   "cell_type": "code",
   "execution_count": 39,
   "metadata": {},
   "outputs": [
    {
     "data": {
      "text/plain": [
       "(4, 72)"
      ]
     },
     "execution_count": 39,
     "metadata": {},
     "output_type": "execute_result"
    }
   ],
   "source": [
    "np.concatenate((s_onhot, s1_onhot), axis=1).shape"
   ]
  },
  {
   "cell_type": "code",
   "execution_count": 25,
   "metadata": {},
   "outputs": [
    {
     "data": {
      "text/plain": [
       "array([[1., 1., 1., 1., 1., 1., 0., 1., 0., 1., 1., 0., 0., 0., 1., 1.,\n",
       "        0., 0., 1., 0., 1., 0., 1., 0., 0., 0., 0., 0., 0., 0., 1., 0.,\n",
       "        1., 1., 1., 1.],\n",
       "       [0., 0., 0., 0., 0., 0., 0., 0., 0., 0., 0., 0., 0., 0., 0., 0.,\n",
       "        0., 1., 0., 0., 0., 0., 0., 1., 0., 0., 0., 1., 0., 0., 0., 0.,\n",
       "        0., 0., 0., 0.],\n",
       "       [0., 0., 0., 0., 0., 0., 1., 0., 1., 0., 0., 1., 0., 0., 0., 0.,\n",
       "        1., 0., 0., 1., 0., 0., 0., 0., 0., 1., 0., 0., 1., 0., 0., 0.,\n",
       "        0., 0., 0., 0.],\n",
       "       [0., 0., 0., 0., 0., 0., 0., 0., 0., 0., 0., 0., 1., 1., 0., 0.,\n",
       "        0., 0., 0., 0., 0., 1., 0., 0., 1., 0., 1., 0., 0., 1., 0., 1.,\n",
       "        0., 0., 0., 0.]])"
      ]
     },
     "execution_count": 25,
     "metadata": {},
     "output_type": "execute_result"
    }
   ],
   "source": [
    "s_onhot.T"
   ]
  },
  {
   "cell_type": "code",
   "execution_count": 41,
   "metadata": {},
   "outputs": [],
   "source": [
    "t1 = torch.rand(2)"
   ]
  },
  {
   "cell_type": "code",
   "execution_count": 43,
   "metadata": {},
   "outputs": [
    {
     "data": {
      "text/plain": [
       "tensor([0.4949, 0.1243])"
      ]
     },
     "execution_count": 43,
     "metadata": {},
     "output_type": "execute_result"
    }
   ],
   "source": [
    "t1"
   ]
  },
  {
   "cell_type": "code",
   "execution_count": 44,
   "metadata": {},
   "outputs": [
    {
     "data": {
      "text/plain": [
       "0.49485743045806885"
      ]
     },
     "execution_count": 44,
     "metadata": {},
     "output_type": "execute_result"
    }
   ],
   "source": [
    "t1[0].item()"
   ]
  },
  {
   "cell_type": "code",
   "execution_count": 8,
   "metadata": {},
   "outputs": [],
   "source": [
    "t2 = torch.tensor([[0.1403, 0.1029]])"
   ]
  },
  {
   "cell_type": "code",
   "execution_count": 14,
   "metadata": {},
   "outputs": [
    {
     "data": {
      "text/plain": [
       "array([0.1403, 0.1029], dtype=float32)"
      ]
     },
     "execution_count": 14,
     "metadata": {},
     "output_type": "execute_result"
    }
   ],
   "source": [
    "t2.squeeze().numpy()"
   ]
  },
  {
   "cell_type": "code",
   "execution_count": null,
   "metadata": {},
   "outputs": [],
   "source": []
  }
 ],
 "metadata": {
  "kernelspec": {
   "display_name": "Python 3",
   "language": "python",
   "name": "python3"
  },
  "language_info": {
   "codemirror_mode": {
    "name": "ipython",
    "version": 3
   },
   "file_extension": ".py",
   "mimetype": "text/x-python",
   "name": "python",
   "nbconvert_exporter": "python",
   "pygments_lexer": "ipython3",
   "version": "3.7.6"
  }
 },
 "nbformat": 4,
 "nbformat_minor": 4
}
