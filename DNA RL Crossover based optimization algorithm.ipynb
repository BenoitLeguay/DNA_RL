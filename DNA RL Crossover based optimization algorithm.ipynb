{
 "cells": [
  {
   "cell_type": "markdown",
   "metadata": {},
   "source": [
    "# DNA RL: Crossover based optimization algorithm"
   ]
  },
  {
   "cell_type": "markdown",
   "metadata": {},
   "source": [
    "Importing Libraries"
   ]
  },
  {
   "cell_type": "code",
   "execution_count": 1,
   "metadata": {},
   "outputs": [],
   "source": [
    "import dna_env\n",
    "import a2c\n",
    "import torch\n",
    "import variable as v\n",
    "from tqdm import tqdm\n",
    "import utils\n",
    "import matplotlib.pyplot as plt\n",
    "from copy import deepcopy"
   ]
  },
  {
   "cell_type": "markdown",
   "metadata": {},
   "source": [
    "Initializing Environment"
   ]
  },
  {
   "cell_type": "code",
   "execution_count": 15,
   "metadata": {},
   "outputs": [],
   "source": [
    "sequence_length = 36\n",
    "render = True\n",
    "action_constraints = {'co_length': (10, 20), \n",
    "                      'opt_start_point': (0, 35), \n",
    "                      'co_start_point': (0, 35)}\n",
    "early_stop_reward = {'reward_low_threshold': -1, \n",
    "                     'reward_high_threshold': .8, \n",
    "                     'patience': 200}\n",
    "env = dna_env.DnaRLEnv(action_constraints, early_stop_reward, sequence_length=sequence_length)\n",
    "env.reset()\n",
    "train_session = None"
   ]
  },
  {
   "cell_type": "code",
   "execution_count": 16,
   "metadata": {},
   "outputs": [
    {
     "name": "stdout",
     "output_type": "stream",
     "text": [
      "state dim: (400,)\n",
      "action dim: (3, 36)\n"
     ]
    }
   ],
   "source": [
    "seed = 23\n",
    "state_dim = env.get_state_dim()\n",
    "action_dim = env.get_action_dim()\n",
    "print(f\"state dim: {state_dim}\")\n",
    "print(f\"action dim: {action_dim}\")"
   ]
  },
  {
   "cell_type": "markdown",
   "metadata": {},
   "source": [
    "Creating our agent"
   ]
  },
  {
   "cell_type": "code",
   "execution_count": 17,
   "metadata": {},
   "outputs": [],
   "source": [
    "critic_init = {\n",
    "    'seed': seed,\n",
    "    'action_dim': action_dim[0],\n",
    "    'network': {\n",
    "        'i_size': state_dim[0],\n",
    "        'l1_size': 200,\n",
    "        'l2_size': 300,\n",
    "        'l3_size': 104\n",
    "               }\n",
    "}\n",
    "actor_init = {\n",
    "    'entropy_learning_rate': 0.1,\n",
    "    'seed': seed,\n",
    "    'action_dim': action_dim[0],\n",
    "    'network': {\n",
    "        'i_size': state_dim[0], \n",
    "        'l1_size': 200,        \n",
    "        'hidden_size': 150, \n",
    "        'o_size': sequence_length\n",
    "               }\n",
    "}\n",
    "a2c_init = {\n",
    "    'seed': seed,\n",
    "    'discount_factor': .99, \n",
    "    'state_dim': state_dim, \n",
    "    'action_space': 3, \n",
    "    'actor': actor_init, \n",
    "    'critic': critic_init\n",
    "}"
   ]
  },
  {
   "cell_type": "code",
   "execution_count": 18,
   "metadata": {},
   "outputs": [
    {
     "name": "stdout",
     "output_type": "stream",
     "text": [
      "Train Session reset\n"
     ]
    }
   ],
   "source": [
    "if not train_session:\n",
    "    print('Train Session reset')\n",
    "    train_session = utils.TrainSession({}, env, seed)"
   ]
  },
  {
   "cell_type": "code",
   "execution_count": 19,
   "metadata": {},
   "outputs": [],
   "source": [
    "agents_created = {\n",
    "    'a2c_agent': a2c.A2C(a2c_init)\n",
    "}\n",
    "manual_agent_names = train_session.append_agents(agents_created)"
   ]
  },
  {
   "cell_type": "code",
   "execution_count": 20,
   "metadata": {},
   "outputs": [
    {
     "name": "stdout",
     "output_type": "stream",
     "text": [
      "All Agents: \n",
      "- a2c_agent\n"
     ]
    }
   ],
   "source": [
    "all_agent_names = train_session.agents.keys()\n",
    "s = '\\n- '.join(all_agent_names)\n",
    "print(f\"All Agents: \\n- {s}\")"
   ]
  },
  {
   "cell_type": "code",
   "execution_count": 21,
   "metadata": {},
   "outputs": [],
   "source": [
    "#train_session.load_model('a2c_agent', suffix='1')"
   ]
  },
  {
   "cell_type": "code",
   "execution_count": 23,
   "metadata": {},
   "outputs": [],
   "source": [
    "n_episode = 3500\n",
    "t_max_per_episode = 200\n",
    "graphical = False"
   ]
  },
  {
   "cell_type": "code",
   "execution_count": null,
   "metadata": {},
   "outputs": [
    {
     "name": "stderr",
     "output_type": "stream",
     "text": [
      "  0%|          | 12/3500 [00:58<4:41:26,  4.84s/it]"
     ]
    }
   ],
   "source": [
    "train_session.train(n_episode=n_episode, t_max_per_episode=t_max_per_episode,\n",
    "                    graphical=graphical, agent_subset=manual_agent_names)"
   ]
  },
  {
   "cell_type": "code",
   "execution_count": null,
   "metadata": {},
   "outputs": [],
   "source": [
    "train_session.plot_results(window=100, agent_subset=manual_agent_names)"
   ]
  },
  {
   "cell_type": "code",
   "execution_count": null,
   "metadata": {},
   "outputs": [],
   "source": [
    "train_session.save_model(suffix='0629')"
   ]
  },
  {
   "cell_type": "code",
   "execution_count": 17,
   "metadata": {},
   "outputs": [
    {
     "data": {
      "text/plain": [
       "98621"
      ]
     },
     "execution_count": 17,
     "metadata": {},
     "output_type": "execute_result"
    }
   ],
   "source": [
    "len(train_session.reward_per_time_step[\"a2c_agent\"])"
   ]
  },
  {
   "cell_type": "code",
   "execution_count": 43,
   "metadata": {},
   "outputs": [
    {
     "data": {
      "text/plain": [
       "[<matplotlib.lines.Line2D at 0x7f3683768a90>]"
      ]
     },
     "execution_count": 43,
     "metadata": {},
     "output_type": "execute_result"
    },
    {
     "data": {
      "image/png": "[encoded data removed]",
      "text/plain": [
       "<Figure size 432x288 with 1 Axes>"
      ]
     },
     "metadata": {},
     "output_type": "display_data"
    }
   ],
   "source": [
    "import numpy as np\n",
    "series_mvg = utils.rolling_window(train_session.reward_per_time_step[\"a2c_agent\"], window=1000)\n",
    "series_mvg_avg = np.mean(series_mvg, axis=1)\n",
    "plt.plot(range(len(series_mvg_avg)), series_mvg_avg)"
   ]
  },
  {
   "cell_type": "code",
   "execution_count": 37,
   "metadata": {},
   "outputs": [
    {
     "data": {
      "text/plain": [
       "tensor([[-0.0450]], device='cuda:0', grad_fn=<AddmmBackward>)"
      ]
     },
     "execution_count": 37,
     "metadata": {},
     "output_type": "execute_result"
    }
   ],
   "source": [
    "train_session.agents[\"a2c_agent\"].critic(torch.rand(1, 400).cuda())"
   ]
  },
  {
   "cell_type": "code",
   "execution_count": 25,
   "metadata": {},
   "outputs": [],
   "source": [
    "state = env.reset()"
   ]
  },
  {
   "cell_type": "code",
   "execution_count": 13,
   "metadata": {},
   "outputs": [
    {
     "data": {
      "text/plain": [
       "(1, 400)"
      ]
     },
     "execution_count": 13,
     "metadata": {},
     "output_type": "execute_result"
    }
   ],
   "source": [
    "(1, ) + state.shape"
   ]
  },
  {
   "cell_type": "code",
   "execution_count": 10,
   "metadata": {},
   "outputs": [],
   "source": [
    "a = torch.tensor([11, 23,  3], device=v.device)"
   ]
  },
  {
   "cell_type": "code",
   "execution_count": 13,
   "metadata": {},
   "outputs": [
    {
     "data": {
      "text/plain": [
       "array([11, 23,  3])"
      ]
     },
     "execution_count": 13,
     "metadata": {},
     "output_type": "execute_result"
    }
   ],
   "source": [
    "a.cpu().numpy()"
   ]
  },
  {
   "cell_type": "code",
   "execution_count": 17,
   "metadata": {},
   "outputs": [
    {
     "data": {
      "text/plain": [
       "tensor(759, device='cuda:0')"
      ]
     },
     "execution_count": 17,
     "metadata": {},
     "output_type": "execute_result"
    }
   ],
   "source": [
    "a.prod()"
   ]
  },
  {
   "cell_type": "code",
   "execution_count": 10,
   "metadata": {},
   "outputs": [],
   "source": [
    "import utils"
   ]
  },
  {
   "cell_type": "code",
   "execution_count": 16,
   "metadata": {},
   "outputs": [
    {
     "data": {
      "text/plain": [
       "tensor([[3.]], device='cuda:0')"
      ]
     },
     "execution_count": 16,
     "metadata": {},
     "output_type": "execute_result"
    }
   ],
   "source": [
    "utils.to_tensor([[float(3)]])\n"
   ]
  },
  {
   "cell_type": "code",
   "execution_count": 61,
   "metadata": {},
   "outputs": [],
   "source": [
    "torch.save(train_session.agents[\"a2c_agent\"].critic.state_dict(), \"/home/benoit/Documents/work/RL_DNA/saved_model/a2c_agent_critic_1.pth\")"
   ]
  },
  {
   "cell_type": "code",
   "execution_count": 62,
   "metadata": {},
   "outputs": [],
   "source": [
    "torch.save(train_session.agents[\"a2c_agent\"].actor.state_dict(), \"/home/benoit/Documents/work/RL_DNA/saved_model/a2c_agent_actor_1.pth\")"
   ]
  },
  {
   "cell_type": "code",
   "execution_count": null,
   "metadata": {},
   "outputs": [],
   "source": []
  }
 ],
 "metadata": {
  "kernelspec": {
   "display_name": "Python 3",
   "language": "python",
   "name": "python3"
  },
  "language_info": {
   "codemirror_mode": {
    "name": "ipython",
    "version": 3
   },
   "file_extension": ".py",
   "mimetype": "text/x-python",
   "name": "python",
   "nbconvert_exporter": "python",
   "pygments_lexer": "ipython3",
   "version": "3.7.6"
  }
 },
 "nbformat": 4,
 "nbformat_minor": 4
}
